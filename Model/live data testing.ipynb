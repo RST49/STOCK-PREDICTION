{
 "cells": [
  {
   "cell_type": "code",
   "execution_count": 1,
   "id": "404c9118-d4b9-4794-ad5d-7aad644c6d32",
   "metadata": {},
   "outputs": [
    {
     "name": "stderr",
     "output_type": "stream",
     "text": [
      "WARNING:absl:Compiled the loaded model, but the compiled metrics have yet to be built. `model.compile_metrics` will be empty until you train or evaluate the model.\n",
      "[*********************100%***********************]  1 of 1 completed\n",
      "[*********************100%***********************]  1 of 1 completed\n"
     ]
    },
    {
     "name": "stdout",
     "output_type": "stream",
     "text": [
      "                                   Open          High           Low  \\\n",
      "Datetime                                                              \n",
      "2024-09-19 09:15:00+05:30  52935.949219  53097.851562  52912.199219   \n",
      "2024-09-19 09:16:00+05:30  53090.199219  53131.949219  53076.500000   \n",
      "2024-09-19 09:17:00+05:30  53112.000000  53141.550781  53099.050781   \n",
      "2024-09-19 09:18:00+05:30  53131.851562  53155.601562  53119.199219   \n",
      "2024-09-19 09:19:00+05:30  53148.601562  53190.449219  53148.601562   \n",
      "\n",
      "                                  Close     Adj Close  Volume  \n",
      "Datetime                                                       \n",
      "2024-09-19 09:15:00+05:30  53097.851562  53097.851562       0  \n",
      "2024-09-19 09:16:00+05:30  53111.800781  53111.800781       0  \n",
      "2024-09-19 09:17:00+05:30  53127.300781  53127.300781       0  \n",
      "2024-09-19 09:18:00+05:30  53155.601562  53155.601562       0  \n",
      "2024-09-19 09:19:00+05:30  53183.101562  53183.101562       0  \n",
      "(101, 6)\n",
      "\u001b[1m1/1\u001b[0m \u001b[32m━━━━━━━━━━━━━━━━━━━━\u001b[0m\u001b[37m\u001b[0m \u001b[1m0s\u001b[0m 210ms/step\n",
      "Predicted 5-minute Close Price: 53154.31355557126\n"
     ]
    },
    {
     "name": "stderr",
     "output_type": "stream",
     "text": [
      "[*********************100%***********************]  1 of 1 completed"
     ]
    },
    {
     "name": "stdout",
     "output_type": "stream",
     "text": [
      "                                   Open          High           Low  \\\n",
      "Datetime                                                              \n",
      "2024-09-19 09:15:00+05:30  52935.949219  53097.851562  52912.199219   \n",
      "2024-09-19 09:16:00+05:30  53090.199219  53131.949219  53076.500000   \n",
      "2024-09-19 09:17:00+05:30  53112.000000  53141.550781  53099.050781   \n",
      "2024-09-19 09:18:00+05:30  53131.851562  53155.601562  53119.199219   \n",
      "2024-09-19 09:19:00+05:30  53148.601562  53190.449219  53148.601562   \n",
      "\n",
      "                                  Close     Adj Close  Volume  \n",
      "Datetime                                                       \n",
      "2024-09-19 09:15:00+05:30  53097.851562  53097.851562       0  \n",
      "2024-09-19 09:16:00+05:30  53111.800781  53111.800781       0  \n",
      "2024-09-19 09:17:00+05:30  53127.300781  53127.300781       0  \n",
      "2024-09-19 09:18:00+05:30  53155.601562  53155.601562       0  \n",
      "2024-09-19 09:19:00+05:30  53183.101562  53183.101562       0  \n",
      "(101, 6)\n",
      "\u001b[1m1/1\u001b[0m \u001b[32m━━━━━━━━━━━━━━━━━━━━\u001b[0m\u001b[37m\u001b[0m \u001b[1m0s\u001b[0m 132ms/step\n"
     ]
    },
    {
     "name": "stderr",
     "output_type": "stream",
     "text": [
      "\n"
     ]
    },
    {
     "name": "stdout",
     "output_type": "stream",
     "text": [
      "Predicted 5-minute Close Price: 53154.31355557126\n"
     ]
    },
    {
     "name": "stderr",
     "output_type": "stream",
     "text": [
      "[*********************100%***********************]  1 of 1 completed"
     ]
    },
    {
     "name": "stdout",
     "output_type": "stream",
     "text": [
      "                                   Open          High           Low  \\\n",
      "Datetime                                                              \n",
      "2024-09-19 09:15:00+05:30  52935.949219  53097.851562  52912.199219   \n",
      "2024-09-19 09:16:00+05:30  53090.199219  53131.949219  53076.500000   \n",
      "2024-09-19 09:17:00+05:30  53112.000000  53141.550781  53099.050781   \n",
      "2024-09-19 09:18:00+05:30  53131.851562  53155.601562  53119.199219   \n",
      "2024-09-19 09:19:00+05:30  53148.601562  53190.449219  53148.601562   \n",
      "\n",
      "                                  Close     Adj Close  Volume  \n",
      "Datetime                                                       \n",
      "2024-09-19 09:15:00+05:30  53097.851562  53097.851562       0  \n",
      "2024-09-19 09:16:00+05:30  53111.800781  53111.800781       0  \n",
      "2024-09-19 09:17:00+05:30  53127.300781  53127.300781       0  \n",
      "2024-09-19 09:18:00+05:30  53155.601562  53155.601562       0  \n",
      "2024-09-19 09:19:00+05:30  53183.101562  53183.101562       0  \n",
      "(101, 6)\n",
      "\u001b[1m1/1\u001b[0m \u001b[32m━━━━━━━━━━━━━━━━━━━━\u001b[0m\u001b[37m\u001b[0m \u001b[1m0s\u001b[0m 46ms/step\n"
     ]
    },
    {
     "name": "stderr",
     "output_type": "stream",
     "text": [
      "\n"
     ]
    },
    {
     "name": "stdout",
     "output_type": "stream",
     "text": [
      "Predicted 5-minute Close Price: 53155.55435166881\n"
     ]
    },
    {
     "name": "stderr",
     "output_type": "stream",
     "text": [
      "[*********************100%***********************]  1 of 1 completed"
     ]
    },
    {
     "name": "stdout",
     "output_type": "stream",
     "text": [
      "                                   Open          High           Low  \\\n",
      "Datetime                                                              \n",
      "2024-09-19 09:15:00+05:30  52935.949219  53097.851562  52912.199219   \n",
      "2024-09-19 09:16:00+05:30  53090.199219  53131.949219  53076.500000   \n",
      "2024-09-19 09:17:00+05:30  53112.000000  53141.550781  53099.050781   \n",
      "2024-09-19 09:18:00+05:30  53131.851562  53155.601562  53119.199219   \n",
      "2024-09-19 09:19:00+05:30  53148.601562  53190.449219  53148.601562   \n",
      "\n",
      "                                  Close     Adj Close  Volume  \n",
      "Datetime                                                       \n",
      "2024-09-19 09:15:00+05:30  53097.851562  53097.851562       0  \n",
      "2024-09-19 09:16:00+05:30  53111.800781  53111.800781       0  \n",
      "2024-09-19 09:17:00+05:30  53127.300781  53127.300781       0  \n",
      "2024-09-19 09:18:00+05:30  53155.601562  53155.601562       0  \n",
      "2024-09-19 09:19:00+05:30  53183.101562  53183.101562       0  \n",
      "(101, 6)\n",
      "\u001b[1m1/1\u001b[0m \u001b[32m━━━━━━━━━━━━━━━━━━━━\u001b[0m\u001b[37m\u001b[0m \u001b[1m0s\u001b[0m 77ms/step\n"
     ]
    },
    {
     "name": "stderr",
     "output_type": "stream",
     "text": [
      "\n"
     ]
    },
    {
     "name": "stdout",
     "output_type": "stream",
     "text": [
      "Predicted 5-minute Close Price: 53155.55435166881\n"
     ]
    },
    {
     "ename": "KeyboardInterrupt",
     "evalue": "",
     "output_type": "error",
     "traceback": [
      "\u001b[1;31m---------------------------------------------------------------------------\u001b[0m",
      "\u001b[1;31mKeyboardInterrupt\u001b[0m                         Traceback (most recent call last)",
      "Cell \u001b[1;32mIn[1], line 76\u001b[0m\n\u001b[0;32m     73\u001b[0m         time\u001b[38;5;241m.\u001b[39msleep(\u001b[38;5;241m5\u001b[39m)\n\u001b[0;32m     75\u001b[0m \u001b[38;5;66;03m# Start the prediction loop\u001b[39;00m\n\u001b[1;32m---> 76\u001b[0m \u001b[43mpredict_live_data\u001b[49m\u001b[43m(\u001b[49m\u001b[43m)\u001b[49m\n",
      "Cell \u001b[1;32mIn[1], line 73\u001b[0m, in \u001b[0;36mpredict_live_data\u001b[1;34m()\u001b[0m\n\u001b[0;32m     70\u001b[0m \u001b[38;5;28mprint\u001b[39m(\u001b[38;5;124mf\u001b[39m\u001b[38;5;124m\"\u001b[39m\u001b[38;5;124mPredicted 5-minute Close Price: \u001b[39m\u001b[38;5;132;01m{\u001b[39;00mpredicted_price\u001b[38;5;132;01m}\u001b[39;00m\u001b[38;5;124m\"\u001b[39m)\n\u001b[0;32m     72\u001b[0m \u001b[38;5;66;03m# Wait for 1 minute before running the prediction again\u001b[39;00m\n\u001b[1;32m---> 73\u001b[0m \u001b[43mtime\u001b[49m\u001b[38;5;241;43m.\u001b[39;49m\u001b[43msleep\u001b[49m\u001b[43m(\u001b[49m\u001b[38;5;241;43m5\u001b[39;49m\u001b[43m)\u001b[49m\n",
      "\u001b[1;31mKeyboardInterrupt\u001b[0m: "
     ]
    }
   ],
   "source": [
    "import yfinance as yf\n",
    "import numpy as np\n",
    "import pandas as pd\n",
    "from sklearn.preprocessing import MinMaxScaler\n",
    "import time\n",
    "\n",
    "# Load your trained model\n",
    "from tensorflow.keras.models import load_model\n",
    "model_5min = load_model('model_5min.h5')  # Load your 5-min prediction model\n",
    "\n",
    "# Fetch historical Bank Nifty data to fit the scaler (so it matches your training)\n",
    "ticker = \"^NSEBANK\"  # Replace with Bank Nifty ticker symbol\n",
    "historical_data = yf.download(ticker, period='5d', interval='5m')  # Get 5 days of minute data\n",
    "\n",
    "# Preprocess the historical data (just like in your training)\n",
    "if not historical_data.empty:\n",
    "    historical_data = historical_data[['Open', 'High', 'Low', 'Close']]  # Use the same features\n",
    "    scaler = MinMaxScaler(feature_range=(0, 1))\n",
    "\n",
    "    # Fit the scaler only on historical data\n",
    "    scaled_historical_data = scaler.fit_transform(historical_data)\n",
    "else:\n",
    "    print(\"No historical data found!\")\n",
    "\n",
    "# Now, you're ready to use the trained model on live data\n",
    "def predict_live_data():\n",
    "    while True:\n",
    "        # Fetch and preprocess live data (1 minute intervals)\n",
    "        live_data = yf.download(ticker, period='1d', interval='1m')  # Fetch 2 days of minute data\n",
    "\n",
    "        # Check if live data is empty\n",
    "        if live_data.empty:\n",
    "            print(\"No live data found! Skipping this cycle.\")\n",
    "            time.sleep(5)  # Wait 1 minute and try again\n",
    "            continue\n",
    "\n",
    "        # Print data to validate\n",
    "        print(live_data.head())\n",
    "        print(live_data.shape)\n",
    "\n",
    "        # Preprocess live data if it exists\n",
    "        live_data = live_data[['Open', 'High', 'Low', 'Close']]\n",
    "\n",
    "        # Apply the scaler\n",
    "        try:\n",
    "            scaled_live_data = scaler.transform(live_data)  # Apply transform, not fit_transform\n",
    "        except ValueError as e:\n",
    "            print(f\"Error scaling live data: {e}\")\n",
    "            time.sleep(5)  # Wait 1 minute and try again\n",
    "            continue\n",
    "\n",
    "        # Use the last 60 data points for prediction\n",
    "        if len(scaled_live_data) < 60:\n",
    "            print(\"Not enough data for prediction! Waiting for more data.\")\n",
    "            time.sleep(60)  # Wait for more data to accumulate\n",
    "            continue\n",
    "\n",
    "        X_live = np.array([scaled_live_data[-60:]])  # Reshape the last 60 data points\n",
    "\n",
    "        # Reshape to match the LSTM model's input shape\n",
    "        X_live = np.reshape(X_live, (X_live.shape[0], X_live.shape[1], 4))  # Shape: (1, 60, 4)\n",
    "\n",
    "        # Make prediction\n",
    "        predicted_price = model_5min.predict(X_live)\n",
    "\n",
    "        # Inverse transform to get the actual predicted price\n",
    "        predicted_price = scaler.inverse_transform([[0, 0, 0, predicted_price[0][0]]])[0][3]  # Extract only the Close price\n",
    "\n",
    "        # Output predicted price\n",
    "        print(f\"Predicted 5-minute Close Price: {predicted_price}\")\n",
    "\n",
    "        # Wait for 1 minute before running the prediction again\n",
    "        time.sleep(5)\n",
    "\n",
    "# Start the prediction loop\n",
    "predict_live_data()\n"
   ]
  },
  {
   "cell_type": "code",
   "execution_count": 6,
   "id": "45e3863d-778c-4144-915a-bd3e32978ba1",
   "metadata": {},
   "outputs": [
    {
     "data": {
      "application/vnd.plotly.v1+json": {
       "config": {
        "plotlyServerURL": "https://plot.ly"
       },
       "data": [
        {
         "mode": "lines+markers",
         "name": "Predicted Price",
         "type": "scatter",
         "x": [
          "2024-09-19T11:08:00+05:30",
          "2024-09-19T11:08:00+05:30",
          "2024-09-19T11:08:00+05:30",
          "2024-09-19T11:08:00+05:30",
          "2024-09-19T11:09:00+05:30",
          "2024-09-19T11:09:00+05:30",
          "2024-09-19T11:09:00+05:30",
          "2024-09-19T11:09:00+05:30",
          "2024-09-19T11:09:00+05:30",
          "2024-09-19T11:09:00+05:30",
          "2024-09-19T11:09:00+05:30",
          "2024-09-19T11:09:00+05:30",
          "2024-09-19T11:09:00+05:30",
          "2024-09-19T11:09:00+05:30",
          "2024-09-19T11:09:00+05:30",
          "2024-09-19T11:10:00+05:30",
          "2024-09-19T11:10:00+05:30",
          "2024-09-19T11:10:00+05:30",
          "2024-09-19T11:10:00+05:30",
          "2024-09-19T11:10:00+05:30",
          "2024-09-19T11:10:00+05:30",
          "2024-09-19T11:10:00+05:30",
          "2024-09-19T11:10:00+05:30",
          "2024-09-19T11:10:00+05:30",
          "2024-09-19T11:10:00+05:30",
          "2024-09-19T11:10:00+05:30",
          "2024-09-19T11:10:00+05:30",
          "2024-09-19T11:10:00+05:30",
          "2024-09-19T11:11:00+05:30",
          "2024-09-19T11:11:00+05:30",
          "2024-09-19T11:11:00+05:30",
          "2024-09-19T11:11:00+05:30",
          "2024-09-19T11:11:00+05:30",
          "2024-09-19T11:11:00+05:30",
          "2024-09-19T11:11:00+05:30",
          "2024-09-19T11:11:00+05:30",
          "2024-09-19T11:11:00+05:30",
          "2024-09-19T11:11:00+05:30",
          "2024-09-19T11:12:00+05:30",
          "2024-09-19T11:12:00+05:30",
          "2024-09-19T11:12:00+05:30",
          "2024-09-19T11:12:00+05:30",
          "2024-09-19T11:12:00+05:30",
          "2024-09-19T11:12:00+05:30",
          "2024-09-19T11:12:00+05:30",
          "2024-09-19T11:12:00+05:30",
          "2024-09-19T11:12:00+05:30",
          "2024-09-19T11:12:00+05:30",
          "2024-09-19T11:12:00+05:30",
          "2024-09-19T11:12:00+05:30",
          "2024-09-19T11:13:00+05:30",
          "2024-09-19T11:13:00+05:30",
          "2024-09-19T11:13:00+05:30",
          "2024-09-19T11:13:00+05:30",
          "2024-09-19T11:13:00+05:30",
          "2024-09-19T11:13:00+05:30"
         ],
         "y": [
          53157.83845350333,
          53157.83845350333,
          53157.673274548266,
          53157.673274548266,
          53154.53697130737,
          53154.53697130737,
          53148.527335822124,
          53148.527335822124,
          53150.93115189067,
          53150.93115189067,
          53144.54292967171,
          53144.54292967171,
          53144.54292967171,
          53147.61356164888,
          53147.61356164888,
          53146.58264671639,
          53146.58264671639,
          53146.58264671639,
          53143.00704179984,
          53143.00704179984,
          53143.00704179984,
          53147.91017844529,
          53147.91017844529,
          53145.41705327063,
          53145.41705327063,
          53152.14592729882,
          53152.14592729882,
          53152.14592729882,
          53145.923646545976,
          53145.923646545976,
          53140.4362358125,
          53140.4362358125,
          53140.894028380986,
          53140.894028380986,
          53136.56773134089,
          53136.56773134089,
          53140.7284681704,
          53140.7284681704,
          53147.337342022925,
          53147.337342022925,
          53154.059925335,
          53154.059925335,
          53151.44708592632,
          53151.44708592632,
          53152.6504236688,
          53152.6504236688,
          53147.875960762154,
          53147.875960762154,
          53148.3756914381,
          53148.3756914381,
          53143.67709838041,
          53143.67709838041,
          53135.97163833166,
          53135.97163833166,
          53135.97163833166,
          53133.6352091767
         ]
        }
       ],
       "layout": {
        "autosize": true,
        "hovermode": "x unified",
        "template": {
         "data": {
          "bar": [
           {
            "error_x": {
             "color": "#2a3f5f"
            },
            "error_y": {
             "color": "#2a3f5f"
            },
            "marker": {
             "line": {
              "color": "#E5ECF6",
              "width": 0.5
             },
             "pattern": {
              "fillmode": "overlay",
              "size": 10,
              "solidity": 0.2
             }
            },
            "type": "bar"
           }
          ],
          "barpolar": [
           {
            "marker": {
             "line": {
              "color": "#E5ECF6",
              "width": 0.5
             },
             "pattern": {
              "fillmode": "overlay",
              "size": 10,
              "solidity": 0.2
             }
            },
            "type": "barpolar"
           }
          ],
          "carpet": [
           {
            "aaxis": {
             "endlinecolor": "#2a3f5f",
             "gridcolor": "white",
             "linecolor": "white",
             "minorgridcolor": "white",
             "startlinecolor": "#2a3f5f"
            },
            "baxis": {
             "endlinecolor": "#2a3f5f",
             "gridcolor": "white",
             "linecolor": "white",
             "minorgridcolor": "white",
             "startlinecolor": "#2a3f5f"
            },
            "type": "carpet"
           }
          ],
          "choropleth": [
           {
            "colorbar": {
             "outlinewidth": 0,
             "ticks": ""
            },
            "type": "choropleth"
           }
          ],
          "contour": [
           {
            "colorbar": {
             "outlinewidth": 0,
             "ticks": ""
            },
            "colorscale": [
             [
              0,
              "#0d0887"
             ],
             [
              0.1111111111111111,
              "#46039f"
             ],
             [
              0.2222222222222222,
              "#7201a8"
             ],
             [
              0.3333333333333333,
              "#9c179e"
             ],
             [
              0.4444444444444444,
              "#bd3786"
             ],
             [
              0.5555555555555556,
              "#d8576b"
             ],
             [
              0.6666666666666666,
              "#ed7953"
             ],
             [
              0.7777777777777778,
              "#fb9f3a"
             ],
             [
              0.8888888888888888,
              "#fdca26"
             ],
             [
              1,
              "#f0f921"
             ]
            ],
            "type": "contour"
           }
          ],
          "contourcarpet": [
           {
            "colorbar": {
             "outlinewidth": 0,
             "ticks": ""
            },
            "type": "contourcarpet"
           }
          ],
          "heatmap": [
           {
            "colorbar": {
             "outlinewidth": 0,
             "ticks": ""
            },
            "colorscale": [
             [
              0,
              "#0d0887"
             ],
             [
              0.1111111111111111,
              "#46039f"
             ],
             [
              0.2222222222222222,
              "#7201a8"
             ],
             [
              0.3333333333333333,
              "#9c179e"
             ],
             [
              0.4444444444444444,
              "#bd3786"
             ],
             [
              0.5555555555555556,
              "#d8576b"
             ],
             [
              0.6666666666666666,
              "#ed7953"
             ],
             [
              0.7777777777777778,
              "#fb9f3a"
             ],
             [
              0.8888888888888888,
              "#fdca26"
             ],
             [
              1,
              "#f0f921"
             ]
            ],
            "type": "heatmap"
           }
          ],
          "heatmapgl": [
           {
            "colorbar": {
             "outlinewidth": 0,
             "ticks": ""
            },
            "colorscale": [
             [
              0,
              "#0d0887"
             ],
             [
              0.1111111111111111,
              "#46039f"
             ],
             [
              0.2222222222222222,
              "#7201a8"
             ],
             [
              0.3333333333333333,
              "#9c179e"
             ],
             [
              0.4444444444444444,
              "#bd3786"
             ],
             [
              0.5555555555555556,
              "#d8576b"
             ],
             [
              0.6666666666666666,
              "#ed7953"
             ],
             [
              0.7777777777777778,
              "#fb9f3a"
             ],
             [
              0.8888888888888888,
              "#fdca26"
             ],
             [
              1,
              "#f0f921"
             ]
            ],
            "type": "heatmapgl"
           }
          ],
          "histogram": [
           {
            "marker": {
             "pattern": {
              "fillmode": "overlay",
              "size": 10,
              "solidity": 0.2
             }
            },
            "type": "histogram"
           }
          ],
          "histogram2d": [
           {
            "colorbar": {
             "outlinewidth": 0,
             "ticks": ""
            },
            "colorscale": [
             [
              0,
              "#0d0887"
             ],
             [
              0.1111111111111111,
              "#46039f"
             ],
             [
              0.2222222222222222,
              "#7201a8"
             ],
             [
              0.3333333333333333,
              "#9c179e"
             ],
             [
              0.4444444444444444,
              "#bd3786"
             ],
             [
              0.5555555555555556,
              "#d8576b"
             ],
             [
              0.6666666666666666,
              "#ed7953"
             ],
             [
              0.7777777777777778,
              "#fb9f3a"
             ],
             [
              0.8888888888888888,
              "#fdca26"
             ],
             [
              1,
              "#f0f921"
             ]
            ],
            "type": "histogram2d"
           }
          ],
          "histogram2dcontour": [
           {
            "colorbar": {
             "outlinewidth": 0,
             "ticks": ""
            },
            "colorscale": [
             [
              0,
              "#0d0887"
             ],
             [
              0.1111111111111111,
              "#46039f"
             ],
             [
              0.2222222222222222,
              "#7201a8"
             ],
             [
              0.3333333333333333,
              "#9c179e"
             ],
             [
              0.4444444444444444,
              "#bd3786"
             ],
             [
              0.5555555555555556,
              "#d8576b"
             ],
             [
              0.6666666666666666,
              "#ed7953"
             ],
             [
              0.7777777777777778,
              "#fb9f3a"
             ],
             [
              0.8888888888888888,
              "#fdca26"
             ],
             [
              1,
              "#f0f921"
             ]
            ],
            "type": "histogram2dcontour"
           }
          ],
          "mesh3d": [
           {
            "colorbar": {
             "outlinewidth": 0,
             "ticks": ""
            },
            "type": "mesh3d"
           }
          ],
          "parcoords": [
           {
            "line": {
             "colorbar": {
              "outlinewidth": 0,
              "ticks": ""
             }
            },
            "type": "parcoords"
           }
          ],
          "pie": [
           {
            "automargin": true,
            "type": "pie"
           }
          ],
          "scatter": [
           {
            "fillpattern": {
             "fillmode": "overlay",
             "size": 10,
             "solidity": 0.2
            },
            "type": "scatter"
           }
          ],
          "scatter3d": [
           {
            "line": {
             "colorbar": {
              "outlinewidth": 0,
              "ticks": ""
             }
            },
            "marker": {
             "colorbar": {
              "outlinewidth": 0,
              "ticks": ""
             }
            },
            "type": "scatter3d"
           }
          ],
          "scattercarpet": [
           {
            "marker": {
             "colorbar": {
              "outlinewidth": 0,
              "ticks": ""
             }
            },
            "type": "scattercarpet"
           }
          ],
          "scattergeo": [
           {
            "marker": {
             "colorbar": {
              "outlinewidth": 0,
              "ticks": ""
             }
            },
            "type": "scattergeo"
           }
          ],
          "scattergl": [
           {
            "marker": {
             "colorbar": {
              "outlinewidth": 0,
              "ticks": ""
             }
            },
            "type": "scattergl"
           }
          ],
          "scattermapbox": [
           {
            "marker": {
             "colorbar": {
              "outlinewidth": 0,
              "ticks": ""
             }
            },
            "type": "scattermapbox"
           }
          ],
          "scatterpolar": [
           {
            "marker": {
             "colorbar": {
              "outlinewidth": 0,
              "ticks": ""
             }
            },
            "type": "scatterpolar"
           }
          ],
          "scatterpolargl": [
           {
            "marker": {
             "colorbar": {
              "outlinewidth": 0,
              "ticks": ""
             }
            },
            "type": "scatterpolargl"
           }
          ],
          "scatterternary": [
           {
            "marker": {
             "colorbar": {
              "outlinewidth": 0,
              "ticks": ""
             }
            },
            "type": "scatterternary"
           }
          ],
          "surface": [
           {
            "colorbar": {
             "outlinewidth": 0,
             "ticks": ""
            },
            "colorscale": [
             [
              0,
              "#0d0887"
             ],
             [
              0.1111111111111111,
              "#46039f"
             ],
             [
              0.2222222222222222,
              "#7201a8"
             ],
             [
              0.3333333333333333,
              "#9c179e"
             ],
             [
              0.4444444444444444,
              "#bd3786"
             ],
             [
              0.5555555555555556,
              "#d8576b"
             ],
             [
              0.6666666666666666,
              "#ed7953"
             ],
             [
              0.7777777777777778,
              "#fb9f3a"
             ],
             [
              0.8888888888888888,
              "#fdca26"
             ],
             [
              1,
              "#f0f921"
             ]
            ],
            "type": "surface"
           }
          ],
          "table": [
           {
            "cells": {
             "fill": {
              "color": "#EBF0F8"
             },
             "line": {
              "color": "white"
             }
            },
            "header": {
             "fill": {
              "color": "#C8D4E3"
             },
             "line": {
              "color": "white"
             }
            },
            "type": "table"
           }
          ]
         },
         "layout": {
          "annotationdefaults": {
           "arrowcolor": "#2a3f5f",
           "arrowhead": 0,
           "arrowwidth": 1
          },
          "autotypenumbers": "strict",
          "coloraxis": {
           "colorbar": {
            "outlinewidth": 0,
            "ticks": ""
           }
          },
          "colorscale": {
           "diverging": [
            [
             0,
             "#8e0152"
            ],
            [
             0.1,
             "#c51b7d"
            ],
            [
             0.2,
             "#de77ae"
            ],
            [
             0.3,
             "#f1b6da"
            ],
            [
             0.4,
             "#fde0ef"
            ],
            [
             0.5,
             "#f7f7f7"
            ],
            [
             0.6,
             "#e6f5d0"
            ],
            [
             0.7,
             "#b8e186"
            ],
            [
             0.8,
             "#7fbc41"
            ],
            [
             0.9,
             "#4d9221"
            ],
            [
             1,
             "#276419"
            ]
           ],
           "sequential": [
            [
             0,
             "#0d0887"
            ],
            [
             0.1111111111111111,
             "#46039f"
            ],
            [
             0.2222222222222222,
             "#7201a8"
            ],
            [
             0.3333333333333333,
             "#9c179e"
            ],
            [
             0.4444444444444444,
             "#bd3786"
            ],
            [
             0.5555555555555556,
             "#d8576b"
            ],
            [
             0.6666666666666666,
             "#ed7953"
            ],
            [
             0.7777777777777778,
             "#fb9f3a"
            ],
            [
             0.8888888888888888,
             "#fdca26"
            ],
            [
             1,
             "#f0f921"
            ]
           ],
           "sequentialminus": [
            [
             0,
             "#0d0887"
            ],
            [
             0.1111111111111111,
             "#46039f"
            ],
            [
             0.2222222222222222,
             "#7201a8"
            ],
            [
             0.3333333333333333,
             "#9c179e"
            ],
            [
             0.4444444444444444,
             "#bd3786"
            ],
            [
             0.5555555555555556,
             "#d8576b"
            ],
            [
             0.6666666666666666,
             "#ed7953"
            ],
            [
             0.7777777777777778,
             "#fb9f3a"
            ],
            [
             0.8888888888888888,
             "#fdca26"
            ],
            [
             1,
             "#f0f921"
            ]
           ]
          },
          "colorway": [
           "#636efa",
           "#EF553B",
           "#00cc96",
           "#ab63fa",
           "#FFA15A",
           "#19d3f3",
           "#FF6692",
           "#B6E880",
           "#FF97FF",
           "#FECB52"
          ],
          "font": {
           "color": "#2a3f5f"
          },
          "geo": {
           "bgcolor": "white",
           "lakecolor": "white",
           "landcolor": "#E5ECF6",
           "showlakes": true,
           "showland": true,
           "subunitcolor": "white"
          },
          "hoverlabel": {
           "align": "left"
          },
          "hovermode": "closest",
          "mapbox": {
           "style": "light"
          },
          "paper_bgcolor": "white",
          "plot_bgcolor": "#E5ECF6",
          "polar": {
           "angularaxis": {
            "gridcolor": "white",
            "linecolor": "white",
            "ticks": ""
           },
           "bgcolor": "#E5ECF6",
           "radialaxis": {
            "gridcolor": "white",
            "linecolor": "white",
            "ticks": ""
           }
          },
          "scene": {
           "xaxis": {
            "backgroundcolor": "#E5ECF6",
            "gridcolor": "white",
            "gridwidth": 2,
            "linecolor": "white",
            "showbackground": true,
            "ticks": "",
            "zerolinecolor": "white"
           },
           "yaxis": {
            "backgroundcolor": "#E5ECF6",
            "gridcolor": "white",
            "gridwidth": 2,
            "linecolor": "white",
            "showbackground": true,
            "ticks": "",
            "zerolinecolor": "white"
           },
           "zaxis": {
            "backgroundcolor": "#E5ECF6",
            "gridcolor": "white",
            "gridwidth": 2,
            "linecolor": "white",
            "showbackground": true,
            "ticks": "",
            "zerolinecolor": "white"
           }
          },
          "shapedefaults": {
           "line": {
            "color": "#2a3f5f"
           }
          },
          "ternary": {
           "aaxis": {
            "gridcolor": "white",
            "linecolor": "white",
            "ticks": ""
           },
           "baxis": {
            "gridcolor": "white",
            "linecolor": "white",
            "ticks": ""
           },
           "bgcolor": "#E5ECF6",
           "caxis": {
            "gridcolor": "white",
            "linecolor": "white",
            "ticks": ""
           }
          },
          "title": {
           "x": 0.05
          },
          "xaxis": {
           "automargin": true,
           "gridcolor": "white",
           "linecolor": "white",
           "ticks": "",
           "title": {
            "standoff": 15
           },
           "zerolinecolor": "white",
           "zerolinewidth": 2
          },
          "yaxis": {
           "automargin": true,
           "gridcolor": "white",
           "linecolor": "white",
           "ticks": "",
           "title": {
            "standoff": 15
           },
           "zerolinecolor": "white",
           "zerolinewidth": 2
          }
         }
        },
        "title": {
         "text": "Live 5-minute Close Price Prediction"
        },
        "xaxis": {
         "autorange": true,
         "range": [
          "2024-09-19 11:07:41.5428",
          "2024-09-19 11:13:18.4572"
         ],
         "title": {
          "text": "Timestamp"
         },
         "type": "date"
        },
        "yaxis": {
         "autorange": true,
         "range": [
          53131.63785406236,
          53159.83580861767
         ],
         "title": {
          "text": "Predicted Close Price"
         },
         "type": "linear"
        }
       }
      },
      "image/png": "[encoded data removed]",
      "text/html": [
       "<div>                            <div id=\"9dcc2519-674b-4703-93c7-8d6f224014f4\" class=\"plotly-graph-div\" style=\"height:525px; width:100%;\"></div>            <script type=\"text/javascript\">                require([\"plotly\"], function(Plotly) {                    window.PLOTLYENV=window.PLOTLYENV || {};                                    if (document.getElementById(\"9dcc2519-674b-4703-93c7-8d6f224014f4\")) {                    Plotly.newPlot(                        \"9dcc2519-674b-4703-93c7-8d6f224014f4\",                        [{\"mode\":\"lines+markers\",\"name\":\"Predicted Price\",\"x\":[\"2024-09-19T11:08:00+05:30\",\"2024-09-19T11:08:00+05:30\",\"2024-09-19T11:08:00+05:30\",\"2024-09-19T11:08:00+05:30\",\"2024-09-19T11:09:00+05:30\",\"2024-09-19T11:09:00+05:30\",\"2024-09-19T11:09:00+05:30\",\"2024-09-19T11:09:00+05:30\",\"2024-09-19T11:09:00+05:30\",\"2024-09-19T11:09:00+05:30\",\"2024-09-19T11:09:00+05:30\",\"2024-09-19T11:09:00+05:30\",\"2024-09-19T11:09:00+05:30\",\"2024-09-19T11:09:00+05:30\",\"2024-09-19T11:09:00+05:30\",\"2024-09-19T11:10:00+05:30\",\"2024-09-19T11:10:00+05:30\",\"2024-09-19T11:10:00+05:30\",\"2024-09-19T11:10:00+05:30\",\"2024-09-19T11:10:00+05:30\",\"2024-09-19T11:10:00+05:30\",\"2024-09-19T11:10:00+05:30\",\"2024-09-19T11:10:00+05:30\",\"2024-09-19T11:10:00+05:30\",\"2024-09-19T11:10:00+05:30\",\"2024-09-19T11:10:00+05:30\",\"2024-09-19T11:10:00+05:30\",\"2024-09-19T11:10:00+05:30\",\"2024-09-19T11:11:00+05:30\",\"2024-09-19T11:11:00+05:30\",\"2024-09-19T11:11:00+05:30\",\"2024-09-19T11:11:00+05:30\",\"2024-09-19T11:11:00+05:30\",\"2024-09-19T11:11:00+05:30\",\"2024-09-19T11:11:00+05:30\",\"2024-09-19T11:11:00+05:30\",\"2024-09-19T11:11:00+05:30\",\"2024-09-19T11:11:00+05:30\",\"2024-09-19T11:12:00+05:30\",\"2024-09-19T11:12:00+05:30\",\"2024-09-19T11:12:00+05:30\",\"2024-09-19T11:12:00+05:30\",\"2024-09-19T11:12:00+05:30\",\"2024-09-19T11:12:00+05:30\",\"2024-09-19T11:12:00+05:30\",\"2024-09-19T11:12:00+05:30\",\"2024-09-19T11:12:00+05:30\",\"2024-09-19T11:12:00+05:30\",\"2024-09-19T11:12:00+05:30\",\"2024-09-19T11:12:00+05:30\",\"2024-09-19T11:13:00+05:30\",\"2024-09-19T11:13:00+05:30\",\"2024-09-19T11:13:00+05:30\",\"2024-09-19T11:13:00+05:30\",\"2024-09-19T11:13:00+05:30\",\"2024-09-19T11:13:00+05:30\"],\"y\":[53157.83845350333,53157.83845350333,53157.673274548266,53157.673274548266,53154.53697130737,53154.53697130737,53148.527335822124,53148.527335822124,53150.93115189067,53150.93115189067,53144.54292967171,53144.54292967171,53144.54292967171,53147.61356164888,53147.61356164888,53146.58264671639,53146.58264671639,53146.58264671639,53143.00704179984,53143.00704179984,53143.00704179984,53147.91017844529,53147.91017844529,53145.41705327063,53145.41705327063,53152.14592729882,53152.14592729882,53152.14592729882,53145.923646545976,53145.923646545976,53140.4362358125,53140.4362358125,53140.894028380986,53140.894028380986,53136.56773134089,53136.56773134089,53140.7284681704,53140.7284681704,53147.337342022925,53147.337342022925,53154.059925335,53154.059925335,53151.44708592632,53151.44708592632,53152.6504236688,53152.6504236688,53147.875960762154,53147.875960762154,53148.3756914381,53148.3756914381,53143.67709838041,53143.67709838041,53135.97163833166,53135.97163833166,53135.97163833166,53133.6352091767],\"type\":\"scatter\"}],                        {\"template\":{\"data\":{\"histogram2dcontour\":[{\"type\":\"histogram2dcontour\",\"colorbar\":{\"outlinewidth\":0,\"ticks\":\"\"},\"colorscale\":[[0.0,\"#0d0887\"],[0.1111111111111111,\"#46039f\"],[0.2222222222222222,\"#7201a8\"],[0.3333333333333333,\"#9c179e\"],[0.4444444444444444,\"#bd3786\"],[0.5555555555555556,\"#d8576b\"],[0.6666666666666666,\"#ed7953\"],[0.7777777777777778,\"#fb9f3a\"],[0.8888888888888888,\"#fdca26\"],[1.0,\"#f0f921\"]]}],\"choropleth\":[{\"type\":\"choropleth\",\"colorbar\":{\"outlinewidth\":0,\"ticks\":\"\"}}],\"histogram2d\":[{\"type\":\"histogram2d\",\"colorbar\":{\"outlinewidth\":0,\"ticks\":\"\"},\"colorscale\":[[0.0,\"#0d0887\"],[0.1111111111111111,\"#46039f\"],[0.2222222222222222,\"#7201a8\"],[0.3333333333333333,\"#9c179e\"],[0.4444444444444444,\"#bd3786\"],[0.5555555555555556,\"#d8576b\"],[0.6666666666666666,\"#ed7953\"],[0.7777777777777778,\"#fb9f3a\"],[0.8888888888888888,\"#fdca26\"],[1.0,\"#f0f921\"]]}],\"heatmap\":[{\"type\":\"heatmap\",\"colorbar\":{\"outlinewidth\":0,\"ticks\":\"\"},\"colorscale\":[[0.0,\"#0d0887\"],[0.1111111111111111,\"#46039f\"],[0.2222222222222222,\"#7201a8\"],[0.3333333333333333,\"#9c179e\"],[0.4444444444444444,\"#bd3786\"],[0.5555555555555556,\"#d8576b\"],[0.6666666666666666,\"#ed7953\"],[0.7777777777777778,\"#fb9f3a\"],[0.8888888888888888,\"#fdca26\"],[1.0,\"#f0f921\"]]}],\"heatmapgl\":[{\"type\":\"heatmapgl\",\"colorbar\":{\"outlinewidth\":0,\"ticks\":\"\"},\"colorscale\":[[0.0,\"#0d0887\"],[0.1111111111111111,\"#46039f\"],[0.2222222222222222,\"#7201a8\"],[0.3333333333333333,\"#9c179e\"],[0.4444444444444444,\"#bd3786\"],[0.5555555555555556,\"#d8576b\"],[0.6666666666666666,\"#ed7953\"],[0.7777777777777778,\"#fb9f3a\"],[0.8888888888888888,\"#fdca26\"],[1.0,\"#f0f921\"]]}],\"contourcarpet\":[{\"type\":\"contourcarpet\",\"colorbar\":{\"outlinewidth\":0,\"ticks\":\"\"}}],\"contour\":[{\"type\":\"contour\",\"colorbar\":{\"outlinewidth\":0,\"ticks\":\"\"},\"colorscale\":[[0.0,\"#0d0887\"],[0.1111111111111111,\"#46039f\"],[0.2222222222222222,\"#7201a8\"],[0.3333333333333333,\"#9c179e\"],[0.4444444444444444,\"#bd3786\"],[0.5555555555555556,\"#d8576b\"],[0.6666666666666666,\"#ed7953\"],[0.7777777777777778,\"#fb9f3a\"],[0.8888888888888888,\"#fdca26\"],[1.0,\"#f0f921\"]]}],\"surface\":[{\"type\":\"surface\",\"colorbar\":{\"outlinewidth\":0,\"ticks\":\"\"},\"colorscale\":[[0.0,\"#0d0887\"],[0.1111111111111111,\"#46039f\"],[0.2222222222222222,\"#7201a8\"],[0.3333333333333333,\"#9c179e\"],[0.4444444444444444,\"#bd3786\"],[0.5555555555555556,\"#d8576b\"],[0.6666666666666666,\"#ed7953\"],[0.7777777777777778,\"#fb9f3a\"],[0.8888888888888888,\"#fdca26\"],[1.0,\"#f0f921\"]]}],\"mesh3d\":[{\"type\":\"mesh3d\",\"colorbar\":{\"outlinewidth\":0,\"ticks\":\"\"}}],\"scatter\":[{\"fillpattern\":{\"fillmode\":\"overlay\",\"size\":10,\"solidity\":0.2},\"type\":\"scatter\"}],\"parcoords\":[{\"type\":\"parcoords\",\"line\":{\"colorbar\":{\"outlinewidth\":0,\"ticks\":\"\"}}}],\"scatterpolargl\":[{\"type\":\"scatterpolargl\",\"marker\":{\"colorbar\":{\"outlinewidth\":0,\"ticks\":\"\"}}}],\"bar\":[{\"error_x\":{\"color\":\"#2a3f5f\"},\"error_y\":{\"color\":\"#2a3f5f\"},\"marker\":{\"line\":{\"color\":\"#E5ECF6\",\"width\":0.5},\"pattern\":{\"fillmode\":\"overlay\",\"size\":10,\"solidity\":0.2}},\"type\":\"bar\"}],\"scattergeo\":[{\"type\":\"scattergeo\",\"marker\":{\"colorbar\":{\"outlinewidth\":0,\"ticks\":\"\"}}}],\"scatterpolar\":[{\"type\":\"scatterpolar\",\"marker\":{\"colorbar\":{\"outlinewidth\":0,\"ticks\":\"\"}}}],\"histogram\":[{\"marker\":{\"pattern\":{\"fillmode\":\"overlay\",\"size\":10,\"solidity\":0.2}},\"type\":\"histogram\"}],\"scattergl\":[{\"type\":\"scattergl\",\"marker\":{\"colorbar\":{\"outlinewidth\":0,\"ticks\":\"\"}}}],\"scatter3d\":[{\"type\":\"scatter3d\",\"line\":{\"colorbar\":{\"outlinewidth\":0,\"ticks\":\"\"}},\"marker\":{\"colorbar\":{\"outlinewidth\":0,\"ticks\":\"\"}}}],\"scattermapbox\":[{\"type\":\"scattermapbox\",\"marker\":{\"colorbar\":{\"outlinewidth\":0,\"ticks\":\"\"}}}],\"scatterternary\":[{\"type\":\"scatterternary\",\"marker\":{\"colorbar\":{\"outlinewidth\":0,\"ticks\":\"\"}}}],\"scattercarpet\":[{\"type\":\"scattercarpet\",\"marker\":{\"colorbar\":{\"outlinewidth\":0,\"ticks\":\"\"}}}],\"carpet\":[{\"aaxis\":{\"endlinecolor\":\"#2a3f5f\",\"gridcolor\":\"white\",\"linecolor\":\"white\",\"minorgridcolor\":\"white\",\"startlinecolor\":\"#2a3f5f\"},\"baxis\":{\"endlinecolor\":\"#2a3f5f\",\"gridcolor\":\"white\",\"linecolor\":\"white\",\"minorgridcolor\":\"white\",\"startlinecolor\":\"#2a3f5f\"},\"type\":\"carpet\"}],\"table\":[{\"cells\":{\"fill\":{\"color\":\"#EBF0F8\"},\"line\":{\"color\":\"white\"}},\"header\":{\"fill\":{\"color\":\"#C8D4E3\"},\"line\":{\"color\":\"white\"}},\"type\":\"table\"}],\"barpolar\":[{\"marker\":{\"line\":{\"color\":\"#E5ECF6\",\"width\":0.5},\"pattern\":{\"fillmode\":\"overlay\",\"size\":10,\"solidity\":0.2}},\"type\":\"barpolar\"}],\"pie\":[{\"automargin\":true,\"type\":\"pie\"}]},\"layout\":{\"autotypenumbers\":\"strict\",\"colorway\":[\"#636efa\",\"#EF553B\",\"#00cc96\",\"#ab63fa\",\"#FFA15A\",\"#19d3f3\",\"#FF6692\",\"#B6E880\",\"#FF97FF\",\"#FECB52\"],\"font\":{\"color\":\"#2a3f5f\"},\"hovermode\":\"closest\",\"hoverlabel\":{\"align\":\"left\"},\"paper_bgcolor\":\"white\",\"plot_bgcolor\":\"#E5ECF6\",\"polar\":{\"bgcolor\":\"#E5ECF6\",\"angularaxis\":{\"gridcolor\":\"white\",\"linecolor\":\"white\",\"ticks\":\"\"},\"radialaxis\":{\"gridcolor\":\"white\",\"linecolor\":\"white\",\"ticks\":\"\"}},\"ternary\":{\"bgcolor\":\"#E5ECF6\",\"aaxis\":{\"gridcolor\":\"white\",\"linecolor\":\"white\",\"ticks\":\"\"},\"baxis\":{\"gridcolor\":\"white\",\"linecolor\":\"white\",\"ticks\":\"\"},\"caxis\":{\"gridcolor\":\"white\",\"linecolor\":\"white\",\"ticks\":\"\"}},\"coloraxis\":{\"colorbar\":{\"outlinewidth\":0,\"ticks\":\"\"}},\"colorscale\":{\"sequential\":[[0.0,\"#0d0887\"],[0.1111111111111111,\"#46039f\"],[0.2222222222222222,\"#7201a8\"],[0.3333333333333333,\"#9c179e\"],[0.4444444444444444,\"#bd3786\"],[0.5555555555555556,\"#d8576b\"],[0.6666666666666666,\"#ed7953\"],[0.7777777777777778,\"#fb9f3a\"],[0.8888888888888888,\"#fdca26\"],[1.0,\"#f0f921\"]],\"sequentialminus\":[[0.0,\"#0d0887\"],[0.1111111111111111,\"#46039f\"],[0.2222222222222222,\"#7201a8\"],[0.3333333333333333,\"#9c179e\"],[0.4444444444444444,\"#bd3786\"],[0.5555555555555556,\"#d8576b\"],[0.6666666666666666,\"#ed7953\"],[0.7777777777777778,\"#fb9f3a\"],[0.8888888888888888,\"#fdca26\"],[1.0,\"#f0f921\"]],\"diverging\":[[0,\"#8e0152\"],[0.1,\"#c51b7d\"],[0.2,\"#de77ae\"],[0.3,\"#f1b6da\"],[0.4,\"#fde0ef\"],[0.5,\"#f7f7f7\"],[0.6,\"#e6f5d0\"],[0.7,\"#b8e186\"],[0.8,\"#7fbc41\"],[0.9,\"#4d9221\"],[1,\"#276419\"]]},\"xaxis\":{\"gridcolor\":\"white\",\"linecolor\":\"white\",\"ticks\":\"\",\"title\":{\"standoff\":15},\"zerolinecolor\":\"white\",\"automargin\":true,\"zerolinewidth\":2},\"yaxis\":{\"gridcolor\":\"white\",\"linecolor\":\"white\",\"ticks\":\"\",\"title\":{\"standoff\":15},\"zerolinecolor\":\"white\",\"automargin\":true,\"zerolinewidth\":2},\"scene\":{\"xaxis\":{\"backgroundcolor\":\"#E5ECF6\",\"gridcolor\":\"white\",\"linecolor\":\"white\",\"showbackground\":true,\"ticks\":\"\",\"zerolinecolor\":\"white\",\"gridwidth\":2},\"yaxis\":{\"backgroundcolor\":\"#E5ECF6\",\"gridcolor\":\"white\",\"linecolor\":\"white\",\"showbackground\":true,\"ticks\":\"\",\"zerolinecolor\":\"white\",\"gridwidth\":2},\"zaxis\":{\"backgroundcolor\":\"#E5ECF6\",\"gridcolor\":\"white\",\"linecolor\":\"white\",\"showbackground\":true,\"ticks\":\"\",\"zerolinecolor\":\"white\",\"gridwidth\":2}},\"shapedefaults\":{\"line\":{\"color\":\"#2a3f5f\"}},\"annotationdefaults\":{\"arrowcolor\":\"#2a3f5f\",\"arrowhead\":0,\"arrowwidth\":1},\"geo\":{\"bgcolor\":\"white\",\"landcolor\":\"#E5ECF6\",\"subunitcolor\":\"white\",\"showland\":true,\"showlakes\":true,\"lakecolor\":\"white\"},\"title\":{\"x\":0.05},\"mapbox\":{\"style\":\"light\"}}},\"title\":{\"text\":\"Live 5-minute Close Price Prediction\"},\"xaxis\":{\"title\":{\"text\":\"Timestamp\"}},\"yaxis\":{\"title\":{\"text\":\"Predicted Close Price\"}},\"hovermode\":\"x unified\"},                        {\"responsive\": true}                    ).then(function(){\n",
       "                            \n",
       "var gd = document.getElementById('9dcc2519-674b-4703-93c7-8d6f224014f4');\n",
       "var x = new MutationObserver(function (mutations, observer) {{\n",
       "        var display = window.getComputedStyle(gd).display;\n",
       "        if (!display || display === 'none') {{\n",
       "            console.log([gd, 'removed!']);\n",
       "            Plotly.purge(gd);\n",
       "            observer.disconnect();\n",
       "        }}\n",
       "}});\n",
       "\n",
       "// Listen for the removal of the full notebook cells\n",
       "var notebookContainer = gd.closest('#notebook-container');\n",
       "if (notebookContainer) {{\n",
       "    x.observe(notebookContainer, {childList: true});\n",
       "}}\n",
       "\n",
       "// Listen for the clearing of the current output cell\n",
       "var outputEl = gd.closest('.output');\n",
       "if (outputEl) {{\n",
       "    x.observe(outputEl, {childList: true});\n",
       "}}\n",
       "\n",
       "                        })                };                });            </script>        </div>"
      ]
     },
     "metadata": {},
     "output_type": "display_data"
    },
    {
     "ename": "KeyboardInterrupt",
     "evalue": "",
     "output_type": "error",
     "traceback": [
      "\u001b[1;31m---------------------------------------------------------------------------\u001b[0m",
      "\u001b[1;31mKeyboardInterrupt\u001b[0m                         Traceback (most recent call last)",
      "Cell \u001b[1;32mIn[6], line 110\u001b[0m\n\u001b[0;32m    107\u001b[0m         time\u001b[38;5;241m.\u001b[39msleep(\u001b[38;5;241m5\u001b[39m)\n\u001b[0;32m    109\u001b[0m \u001b[38;5;66;03m# Start the live prediction and graph update\u001b[39;00m\n\u001b[1;32m--> 110\u001b[0m \u001b[43mpredict_live_data\u001b[49m\u001b[43m(\u001b[49m\u001b[43m)\u001b[49m\n",
      "Cell \u001b[1;32mIn[6], line 107\u001b[0m, in \u001b[0;36mpredict_live_data\u001b[1;34m()\u001b[0m\n\u001b[0;32m    104\u001b[0m display(fig)\n\u001b[0;32m    106\u001b[0m \u001b[38;5;66;03m# Wait for 1 minute before running the prediction again\u001b[39;00m\n\u001b[1;32m--> 107\u001b[0m \u001b[43mtime\u001b[49m\u001b[38;5;241;43m.\u001b[39;49m\u001b[43msleep\u001b[49m\u001b[43m(\u001b[49m\u001b[38;5;241;43m5\u001b[39;49m\u001b[43m)\u001b[49m\n",
      "\u001b[1;31mKeyboardInterrupt\u001b[0m: "
     ]
    }
   ],
   "source": [
    "import yfinance as yf\n",
    "import numpy as np\n",
    "import pandas as pd\n",
    "from sklearn.preprocessing import MinMaxScaler\n",
    "import time\n",
    "import plotly.graph_objects as go\n",
    "from tensorflow.keras.models import load_model\n",
    "from IPython.display import display, clear_output\n",
    "\n",
    "# Load your trained model\n",
    "model_5min = load_model('model_5min.h5')\n",
    "\n",
    "# Fetch historical Bank Nifty data to fit the scaler (so it matches your training)\n",
    "ticker = \"^NSEBANK\"\n",
    "historical_data = yf.download(ticker, period='5d', interval='5m')\n",
    "\n",
    "# Preprocess the historical data\n",
    "if not historical_data.empty:\n",
    "    historical_data = historical_data[['Open', 'High', 'Low', 'Close']]\n",
    "    scaler = MinMaxScaler(feature_range=(0, 1))\n",
    "\n",
    "    # Fit the scaler only on historical data\n",
    "    scaled_historical_data = scaler.fit_transform(historical_data)\n",
    "else:\n",
    "    print(\"No historical data found!\")\n",
    "\n",
    "# Initialize the figure for live plotting\n",
    "fig = go.Figure()\n",
    "\n",
    "# Add a trace for predicted price\n",
    "fig.add_trace(go.Scatter(x=[], y=[], mode='lines+markers', name='Predicted Price'))\n",
    "\n",
    "# Configure the layout of the graph\n",
    "fig.update_layout(\n",
    "    title=\"Live 5-minute Close Price Prediction\",\n",
    "    xaxis_title=\"Timestamp\",\n",
    "    yaxis_title=\"Predicted Close Price\",\n",
    "    hovermode=\"x unified\"\n",
    ")\n",
    "\n",
    "# Display the initial graph\n",
    "fig.show()\n",
    "\n",
    "# Initialize empty lists to store timestamps and predicted prices\n",
    "timestamps = []\n",
    "predicted_prices = []\n",
    "\n",
    "# Function for live prediction\n",
    "def predict_live_data():\n",
    "    while True:\n",
    "        # Fetch and preprocess live data (1 minute intervals)\n",
    "        live_data = yf.download(ticker, period='1d', interval='1m')\n",
    "\n",
    "        # Check if live data is empty\n",
    "        if live_data.empty:\n",
    "            print(\"No live data found! Skipping this cycle.\")\n",
    "            time.sleep(1)  # Wait 1 minute and try again\n",
    "            continue\n",
    "\n",
    "        # Preprocess live data\n",
    "        live_data = live_data[['Open', 'High', 'Low', 'Close']]\n",
    "\n",
    "        # Apply the scaler\n",
    "        try:\n",
    "            scaled_live_data = scaler.transform(live_data)\n",
    "        except ValueError as e:\n",
    "            print(f\"Error scaling live data: {e}\")\n",
    "            time.sleep(1)  # Wait 1 minute and try again\n",
    "            continue\n",
    "\n",
    "        # Use the last 60 data points for prediction\n",
    "        if len(scaled_live_data) < 60:\n",
    "            print(\"Not enough data for prediction! Waiting for more data.\")\n",
    "            time.sleep(60)\n",
    "            continue\n",
    "\n",
    "        X_live = np.array([scaled_live_data[-60:]])\n",
    "\n",
    "        # Reshape to match the LSTM model's input shape\n",
    "        X_live = np.reshape(X_live, (X_live.shape[0], X_live.shape[1], 4))\n",
    "\n",
    "        # Make prediction\n",
    "        predicted_price = model_5min.predict(X_live)\n",
    "\n",
    "        # Inverse transform to get the actual predicted price\n",
    "        predicted_price = scaler.inverse_transform([[0, 0, 0, predicted_price[0][0]]])[0][3]\n",
    "\n",
    "        # Get the current timestamp\n",
    "        current_time = live_data.index[-1]\n",
    "\n",
    "        # Append the predicted price and timestamp to the lists\n",
    "        timestamps.append(current_time)\n",
    "        predicted_prices.append(predicted_price)\n",
    "\n",
    "        # Output predicted price\n",
    "        print(f\"Predicted 5-minute Close Price: {predicted_price}\")\n",
    "\n",
    "        # Update the graph with the new data (without creating a new graph)\n",
    "        fig.data[0].x = timestamps\n",
    "        fig.data[0].y = predicted_prices\n",
    "        \n",
    "        # Clear the previous plot and display the updated graph\n",
    "        clear_output(wait=True)\n",
    "        display(fig)\n",
    "\n",
    "        # Wait for 1 minute before running the prediction again\n",
    "        time.sleep(5)\n",
    "\n",
    "# Start the live prediction and graph update\n",
    "predict_live_data()\n"
   ]
  },
  {
   "cell_type": "code",
   "execution_count": null,
   "id": "eefd22ba-dab3-4e8f-a3ed-c78304fa72ef",
   "metadata": {},
   "outputs": [],
   "source": [
    "# Check if the dataframe is empty\n",
    "print(data.head())\n",
    "print(data.shape)\n"
   ]
  },
  {
   "cell_type": "code",
   "execution_count": null,
   "id": "1a70cb64-c9dd-4b4c-a23c-2c7312f54812",
   "metadata": {},
   "outputs": [],
   "source": [
    "\n",
    "# Ticker for Bank Nifty\n",
    "ticker = \"^NSEBANK\"\n",
    "\n",
    "# Download data for the last 5 days with a 5-minute interval\n",
    "data = yf.download(ticker, period=\"5d\", interval=\"1m\")\n",
    "\n",
    "# Check if data is empty\n",
    "if data.empty:\n",
    "    print(\"No data returned from yfinance. Please check the ticker symbol and availability of data.\")\n",
    "else:\n",
    "    print(data.head())  # Display the first few rows of data\n"
   ]
  },
  {
   "cell_type": "code",
   "execution_count": null,
   "id": "3726cd3d-278e-4a70-b5e7-af4287a97c2c",
   "metadata": {},
   "outputs": [],
   "source": [
    "import yfinance as yf\n",
    "import numpy as np\n",
    "import pandas as pd\n",
    "from sklearn.preprocessing import MinMaxScaler\n",
    "from tensorflow.keras.models import load_model\n",
    "\n",
    "# Load your trained model\n",
    "model_5min = load_model('model_5min.h5')  # Load your 5-min prediction model\n",
    "\n",
    "# Fetch the last 5 days of Bank Nifty data using Yahoo Finance\n",
    "ticker = \"^NSEBANK\"  # Replace with Bank Nifty ticker symbol (or any other symbol)\n",
    "historical_data = yf.download(ticker, period='3d', interval='1m')  # Get 5 days of minute data\n",
    "\n",
    "# Check if data is downloaded correctly\n",
    "if historical_data.empty:\n",
    "    print(\"No historical data found!\")\n",
    "else:\n",
    "    # Preprocess the historical data (same steps as used during training)\n",
    "    historical_data = historical_data[['Open', 'High', 'Low', 'Close']]  # Use the same features\n",
    "    scaler = MinMaxScaler(feature_range=(0, 1))\n",
    "\n",
    "    # Fit the scaler only on the historical data (just like in training)\n",
    "    scaled_historical_data = scaler.fit_transform(historical_data)\n",
    "\n",
    "    # Use the last 60 data points (as per window_size) for prediction\n",
    "    window_size = 60  # Same window size as used in training\n",
    "\n",
    "    # Ensure there are enough data points\n",
    "    if len(scaled_historical_data) >= window_size:\n",
    "        # Extract the last 60 data points to test\n",
    "        X_static = np.array([scaled_historical_data[-window_size:]])\n",
    "\n",
    "        # Reshape the data to match the model's input shape\n",
    "        X_static = np.reshape(X_static, (X_static.shape[0], X_static.shape[1], 4))  # Shape: (1, 60, 4)\n",
    "\n",
    "        # Make predictions\n",
    "        predicted_price = model_5min.predict(X_static)\n",
    "\n",
    "        # Inverse transform to get the actual predicted price\n",
    "        predicted_price = scaler.inverse_transform([[0, 0, 0, predicted_price[0][0]]])[0][3]  # Extract only the Close price\n",
    "\n",
    "        # Print the predicted price\n",
    "        print(f\"Predicted 5-minute Close Price: {predicted_price}\")\n",
    "    else:\n",
    "        print(\"Not enough data for prediction!\")\n"
   ]
  },
  {
   "cell_type": "code",
   "execution_count": null,
   "id": "eccc5ed9-5be0-4fc0-9cd5-a116d00a8a06",
   "metadata": {},
   "outputs": [],
   "source": [
    "import yfinance as yf\n",
    "import numpy as np\n",
    "import pandas as pd\n",
    "from sklearn.preprocessing import MinMaxScaler\n",
    "from tensorflow.keras.models import load_model\n",
    "import plotly.graph_objects as go\n",
    "\n",
    "# Load your trained model\n",
    "model_5min = load_model('model_5min.h5')  # Load your 5-min prediction model\n",
    "\n",
    "# Fetch the last 5 days of Bank Nifty data using Yahoo Finance\n",
    "ticker = \"^NSEBANK\"  # Replace with Bank Nifty ticker symbol\n",
    "historical_data = yf.download(ticker, period='5d', interval='5m')  # Get 5 days of minute data\n",
    "\n",
    "# Check if data is downloaded correctly\n",
    "if historical_data.empty:\n",
    "    print(\"No historical data found!\")\n",
    "else:\n",
    "    # Preprocess the historical data (same steps as used during training)\n",
    "    historical_data = historical_data[['Open', 'High', 'Low', 'Close']]  # Use the same features\n",
    "    scaler = MinMaxScaler(feature_range=(0, 1))\n",
    "\n",
    "    # Fit the scaler only on the historical data (just like in training)\n",
    "    scaled_historical_data = scaler.fit_transform(historical_data)\n",
    "\n",
    "    # Use the last 60 data points (as per window_size) for prediction\n",
    "    window_size = 60  # Same window size as used in training\n",
    "    predictions = []\n",
    "    prediction_dates = []\n",
    "\n",
    "    # Loop through the data to make predictions for each time step\n",
    "    for i in range(window_size, len(scaled_historical_data)):\n",
    "        X_static = np.array([scaled_historical_data[i - window_size:i]])\n",
    "\n",
    "        # Reshape the data to match the model's input shape\n",
    "        X_static = np.reshape(X_static, (X_static.shape[0], X_static.shape[1], 4))  # Shape: (1, 60, 4)\n",
    "\n",
    "        # Make prediction\n",
    "        predicted_price = model_5min.predict(X_static)\n",
    "\n",
    "        # Inverse transform to get the actual predicted price\n",
    "        predicted_price = scaler.inverse_transform([[0, 0, 0, predicted_price[0][0]]])[0][3]\n",
    "\n",
    "        # Store the prediction and the corresponding date\n",
    "        predictions.append(predicted_price)\n",
    "        prediction_dates.append(historical_data.index[i])\n",
    "\n",
    "    # Convert lists to pandas Series for easier plotting\n",
    "    predictions = pd.Series(predictions, index=prediction_dates)\n",
    "\n",
    "    # Create an interactive plot using Plotly\n",
    "    fig = go.Figure()\n",
    "\n",
    "    # Add actual close prices to the plot\n",
    "    fig.add_trace(go.Scatter(x=historical_data.index, y=historical_data['Close'], mode='lines', name='Actual Close Price'))\n",
    "\n",
    "    # Add predicted close prices to the plot\n",
    "    fig.add_trace(go.Scatter(x=predictions.index, y=predictions.values, mode='lines', name='Predicted Close Price', line=dict(dash='dot')))\n",
    "\n",
    "    # Customize the layout\n",
    "    fig.update_layout(\n",
    "        title='Bank Nifty 5-Minute Close Price Prediction',\n",
    "        xaxis_title='Time',\n",
    "        yaxis_title='Price',\n",
    "        hovermode='x unified'\n",
    "    )\n",
    "\n",
    "    # Show interactive plot\n",
    "    fig.show()\n"
   ]
  },
  {
   "cell_type": "code",
   "execution_count": null,
   "id": "c557009f-a183-46b1-b238-b18034a588f3",
   "metadata": {},
   "outputs": [],
   "source": [
    "from alpha_vantage.timeseries import TimeSeries\n",
    "\n",
    "# Initialize the Alpha Vantage API with your key\n",
    "api_key = 'BOM2240701AL3828166'\n",
    "ts = TimeSeries(key=api_key, output_format='pandas')\n",
    "\n",
    "# Get 1-minute real-time data for Bank Nifty (or another stock)\n",
    "data, meta_data = ts.get_intraday(symbol='^NSEBANK', interval='1min', outputsize='compact')\n",
    "\n",
    "# Print the data\n",
    "print(data.head())\n"
   ]
  },
  {
   "cell_type": "code",
   "execution_count": null,
   "id": "10069ff3-430e-4e1c-8354-2ddd0308f324",
   "metadata": {},
   "outputs": [],
   "source": [
    "!pip install alpha_vantage"
   ]
  },
  {
   "cell_type": "code",
   "execution_count": null,
   "id": "5eb34578-c8b7-422b-a072-6596a92deb0e",
   "metadata": {},
   "outputs": [],
   "source": []
  }
 ],
 "metadata": {
  "kernelspec": {
   "display_name": "minorporject",
   "language": "python",
   "name": "minorporject"
  },
  "language_info": {
   "codemirror_mode": {
    "name": "ipython",
    "version": 3
   },
   "file_extension": ".py",
   "mimetype": "text/x-python",
   "name": "python",
   "nbconvert_exporter": "python",
   "pygments_lexer": "ipython3",
   "version": "3.10.6"
  }
 },
 "nbformat": 4,
 "nbformat_minor": 5
}
