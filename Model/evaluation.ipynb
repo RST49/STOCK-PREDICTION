{
 "cells": [
  {
   "cell_type": "code",
   "execution_count": 4,
   "id": "04655bd4-9f54-47df-9f36-fdf2df80db32",
   "metadata": {},
   "outputs": [
    {
     "name": "stdout",
     "output_type": "stream",
     "text": [
      "Mean Absolute Error (MAE): 44.66052016732655\n",
      "Mean Squared Error (MSE): 6288.17661625418\n",
      "Root Mean Squared Error (RMSE): 79.2980240375142\n",
      "R² Score: 0.9986762999863245\n"
     ]
    },
    {
     "name": "stderr",
     "output_type": "stream",
     "text": [
      "C:\\Users\\RST\\Desktop\\Minor project\\test_venv\\lib\\site-packages\\sklearn\\metrics\\_regression.py:492: FutureWarning: 'squared' is deprecated in version 1.4 and will be removed in 1.6. To calculate the root mean squared error, use the function'root_mean_squared_error'.\n",
      "  warnings.warn(\n"
     ]
    }
   ],
   "source": [
    "import pandas as pd\n",
    "from sklearn.metrics import mean_squared_error, mean_absolute_error, r2_score\n",
    "\n",
    "# Load actual and predicted values\n",
    "actual = pd.read_csv('actual_5min.csv')  # Replace this with the correct path\n",
    "predicted = pd.read_csv('predicted_5min.csv')\n",
    "\n",
    "# Ensure both series are the same length and aligned\n",
    "actual_values = actual['Close'].values\n",
    "predicted_values = predicted['Close'].values\n",
    "\n",
    "# Mean Absolute Error (MAE)\n",
    "mae = mean_absolute_error(actual_values, predicted_values)\n",
    "\n",
    "# Mean Squared Error (MSE)\n",
    "mse = mean_squared_error(actual_values, predicted_values)\n",
    "\n",
    "# Root Mean Squared Error (RMSE)\n",
    "rmse = mean_squared_error(actual_values, predicted_values, squared=False)\n",
    "\n",
    "# R² Score (Coefficient of Determination)\n",
    "r2 = r2_score(actual_values, predicted_values)\n",
    "\n",
    "# Display the results\n",
    "print(f\"Mean Absolute Error (MAE): {mae}\")\n",
    "print(f\"Mean Squared Error (MSE): {mse}\")\n",
    "print(f\"Root Mean Squared Error (RMSE): {rmse}\")\n",
    "print(f\"R² Score: {r2}\")\n"
   ]
  },
  {
   "cell_type": "code",
   "execution_count": 5,
   "id": "2d9338f6-d48c-42d1-a8c2-1af472496f63",
   "metadata": {},
   "outputs": [
    {
     "name": "stdout",
     "output_type": "stream",
     "text": [
      "Confusion Matrix:\n",
      "[[62759  3712]\n",
      " [ 4613   392]]\n",
      "\n",
      "Classification Report:\n",
      "              precision    recall  f1-score   support\n",
      "\n",
      "           0       0.93      0.94      0.94     66471\n",
      "           1       0.10      0.08      0.09      5005\n",
      "\n",
      "    accuracy                           0.88     71476\n",
      "   macro avg       0.51      0.51      0.51     71476\n",
      "weighted avg       0.87      0.88      0.88     71476\n",
      "\n",
      "Accuracy: 0.8835273378476691\n"
     ]
    }
   ],
   "source": [
    "from sklearn.metrics import confusion_matrix, classification_report, accuracy_score\n",
    "\n",
    "# Create direction labels (1 for up, 0 for down)\n",
    "actual_direction = (actual_values[1:] > actual_values[:-1]).astype(int)  # 1: Price went up, 0: Price went down\n",
    "predicted_direction = (predicted_values[1:] > predicted_values[:-1]).astype(int)\n",
    "\n",
    "# Calculate confusion matrix and classification report\n",
    "conf_matrix = confusion_matrix(actual_direction, predicted_direction)\n",
    "class_report = classification_report(actual_direction, predicted_direction)\n",
    "accuracy = accuracy_score(actual_direction, predicted_direction)\n",
    "\n",
    "# Display the classification metrics\n",
    "print(\"Confusion Matrix:\")\n",
    "print(conf_matrix)\n",
    "print(\"\\nClassification Report:\")\n",
    "print(class_report)\n",
    "print(f\"Accuracy: {accuracy}\")\n",
    "\n"
   ]
  },
  {
   "cell_type": "code",
   "execution_count": null,
   "id": "798548d2-ab2f-44d0-8ca5-3b96b2b8fc67",
   "metadata": {},
   "outputs": [],
   "source": []
  }
 ],
 "metadata": {
  "kernelspec": {
   "display_name": "minorporject",
   "language": "python",
   "name": "minorporject"
  },
  "language_info": {
   "codemirror_mode": {
    "name": "ipython",
    "version": 3
   },
   "file_extension": ".py",
   "mimetype": "text/x-python",
   "name": "python",
   "nbconvert_exporter": "python",
   "pygments_lexer": "ipython3",
   "version": "3.10.6"
  }
 },
 "nbformat": 4,
 "nbformat_minor": 5
}
