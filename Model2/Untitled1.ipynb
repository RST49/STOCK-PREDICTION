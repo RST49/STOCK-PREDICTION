{
 "cells": [
  {
   "cell_type": "code",
   "execution_count": 1,
   "id": "0c9973ea-c888-4038-88d7-e2e657486217",
   "metadata": {},
   "outputs": [
    {
     "data": {
      "application/vnd.plotly.v1+json": {
       "config": {
        "plotlyServerURL": "https://plot.ly"
       },
       "data": [
        {
         "close": [
          54084.25,
          54069.6484375,
          54135,
          54174.94921875,
          54144.30078125,
          54129.75,
          54147.6015625,
          54151.80078125,
          54186.25,
          54149.1015625,
          54120,
          54123.1015625,
          54123.1015625,
          54123.1015625,
          54126.30078125,
          54126.30078125,
          54129.8984375,
          54129.8984375,
          54129.8515625,
          54136.69921875,
          54136.69921875,
          54147.8984375,
          54147.8984375,
          54156.6484375
         ],
         "high": [
          54091.6484375,
          54090.1015625,
          54146.6015625,
          54188.30078125,
          54195.30078125,
          54165.75,
          54170.6484375,
          54157.6015625,
          54194.5,
          54187.1015625,
          54152.94921875,
          54145.19921875,
          54145.19921875,
          54145.19921875,
          54145.19921875,
          54145.19921875,
          54145.19921875,
          54145.19921875,
          54145.19921875,
          54145.19921875,
          54145.19921875,
          54147.8984375,
          54147.8984375,
          54156.6484375
         ],
         "low": [
          54064.8984375,
          54053.75,
          54068.80078125,
          54130.44921875,
          54141.55078125,
          54106.1484375,
          54112.44921875,
          54138.69921875,
          54145.30078125,
          54130.44921875,
          54111.44921875,
          54071.6015625,
          54071.6015625,
          54071.6015625,
          54071.6015625,
          54071.6015625,
          54071.6015625,
          54071.6015625,
          54071.6015625,
          54071.6015625,
          54071.6015625,
          54071.6015625,
          54071.6015625,
          54156.6484375
         ],
         "name": "Actual Candlestick",
         "open": [
          54084.75,
          54084.1484375,
          54075.6484375,
          54133.1484375,
          54181.8515625,
          54144.6484375,
          54129.30078125,
          54147.80078125,
          54149.1015625,
          54185.05078125,
          54152.94921875,
          54118.6015625,
          54118.6015625,
          54118.6015625,
          54118.6015625,
          54118.6015625,
          54118.6015625,
          54118.6015625,
          54118.6015625,
          54118.6015625,
          54118.6015625,
          54118.6015625,
          54118.6015625,
          54156.6484375
         ],
         "type": "candlestick",
         "x": [
          "2024-09-23T14:05:00+05:30",
          "2024-09-23T14:10:00+05:30",
          "2024-09-23T14:15:00+05:30",
          "2024-09-23T14:20:00+05:30",
          "2024-09-23T14:25:00+05:30",
          "2024-09-23T14:30:00+05:30",
          "2024-09-23T14:35:00+05:30",
          "2024-09-23T14:40:00+05:30",
          "2024-09-23T14:45:00+05:30",
          "2024-09-23T14:50:00+05:30",
          "2024-09-23T14:55:00+05:30",
          "2024-09-23T15:00:00+05:30",
          "2024-09-23T15:00:00+05:30",
          "2024-09-23T15:00:00+05:30",
          "2024-09-23T15:00:00+05:30",
          "2024-09-23T15:00:00+05:30",
          "2024-09-23T15:00:00+05:30",
          "2024-09-23T15:00:00+05:30",
          "2024-09-23T15:00:00+05:30",
          "2024-09-23T15:00:00+05:30",
          "2024-09-23T15:00:00+05:30",
          "2024-09-23T15:00:00+05:30",
          "2024-09-23T15:00:00+05:30",
          "2024-09-23T15:05:00+05:30"
         ]
        },
        {
         "close": [
          54131.11486557126,
          54131.11486557126,
          54133.61834615469,
          54133.61834615469,
          54136.43163716793,
          54136.43163716793,
          54136.39494532347,
          54141.743277192116,
          54141.743277192116,
          54150.581078350544,
          54150.581078350544,
          54154.20145779848
         ],
         "high": [
          54091.6484375,
          54090.1015625,
          54146.6015625,
          54188.30078125,
          54195.30078125,
          54165.75,
          54170.6484375,
          54157.6015625,
          54194.5,
          54187.1015625,
          54152.94921875,
          54145.19921875,
          54145.19921875,
          54145.19921875,
          54145.19921875,
          54145.19921875,
          54145.19921875,
          54145.19921875,
          54145.19921875,
          54145.19921875,
          54145.19921875,
          54147.8984375,
          54147.8984375,
          54156.6484375
         ],
         "low": [
          54064.8984375,
          54053.75,
          54068.80078125,
          54130.44921875,
          54141.55078125,
          54106.1484375,
          54112.44921875,
          54138.69921875,
          54145.30078125,
          54130.44921875,
          54111.44921875,
          54071.6015625,
          54071.6015625,
          54071.6015625,
          54071.6015625,
          54071.6015625,
          54071.6015625,
          54071.6015625,
          54071.6015625,
          54071.6015625,
          54071.6015625,
          54071.6015625,
          54071.6015625,
          54156.6484375
         ],
         "name": "Candlestick",
         "open": [
          54084.75,
          54084.1484375,
          54075.6484375,
          54133.1484375,
          54181.8515625,
          54144.6484375,
          54129.30078125,
          54147.80078125,
          54149.1015625,
          54185.05078125,
          54152.94921875,
          54118.6015625,
          54118.6015625,
          54118.6015625,
          54118.6015625,
          54118.6015625,
          54118.6015625,
          54118.6015625,
          54118.6015625,
          54118.6015625,
          54118.6015625,
          54118.6015625,
          54118.6015625,
          54156.6484375
         ],
         "type": "candlestick",
         "x": [
          "2024-09-23T14:05:00+05:30",
          "2024-09-23T14:10:00+05:30",
          "2024-09-23T14:15:00+05:30",
          "2024-09-23T14:20:00+05:30",
          "2024-09-23T14:25:00+05:30",
          "2024-09-23T14:30:00+05:30",
          "2024-09-23T14:35:00+05:30",
          "2024-09-23T14:40:00+05:30",
          "2024-09-23T14:45:00+05:30",
          "2024-09-23T14:50:00+05:30",
          "2024-09-23T14:55:00+05:30",
          "2024-09-23T15:00:00+05:30",
          "2024-09-23T15:00:00+05:30",
          "2024-09-23T15:00:00+05:30",
          "2024-09-23T15:00:00+05:30",
          "2024-09-23T15:00:00+05:30",
          "2024-09-23T15:00:00+05:30",
          "2024-09-23T15:00:00+05:30",
          "2024-09-23T15:00:00+05:30",
          "2024-09-23T15:00:00+05:30",
          "2024-09-23T15:00:00+05:30",
          "2024-09-23T15:00:00+05:30",
          "2024-09-23T15:00:00+05:30",
          "2024-09-23T15:05:00+05:30"
         ]
        }
       ],
       "layout": {
        "autosize": true,
        "hoverlabel": {
         "namelength": -1
        },
        "hovermode": "x unified",
        "template": {
         "data": {
          "bar": [
           {
            "error_x": {
             "color": "#2a3f5f"
            },
            "error_y": {
             "color": "#2a3f5f"
            },
            "marker": {
             "line": {
              "color": "#E5ECF6",
              "width": 0.5
             },
             "pattern": {
              "fillmode": "overlay",
              "size": 10,
              "solidity": 0.2
             }
            },
            "type": "bar"
           }
          ],
          "barpolar": [
           {
            "marker": {
             "line": {
              "color": "#E5ECF6",
              "width": 0.5
             },
             "pattern": {
              "fillmode": "overlay",
              "size": 10,
              "solidity": 0.2
             }
            },
            "type": "barpolar"
           }
          ],
          "carpet": [
           {
            "aaxis": {
             "endlinecolor": "#2a3f5f",
             "gridcolor": "white",
             "linecolor": "white",
             "minorgridcolor": "white",
             "startlinecolor": "#2a3f5f"
            },
            "baxis": {
             "endlinecolor": "#2a3f5f",
             "gridcolor": "white",
             "linecolor": "white",
             "minorgridcolor": "white",
             "startlinecolor": "#2a3f5f"
            },
            "type": "carpet"
           }
          ],
          "choropleth": [
           {
            "colorbar": {
             "outlinewidth": 0,
             "ticks": ""
            },
            "type": "choropleth"
           }
          ],
          "contour": [
           {
            "colorbar": {
             "outlinewidth": 0,
             "ticks": ""
            },
            "colorscale": [
             [
              0,
              "#0d0887"
             ],
             [
              0.1111111111111111,
              "#46039f"
             ],
             [
              0.2222222222222222,
              "#7201a8"
             ],
             [
              0.3333333333333333,
              "#9c179e"
             ],
             [
              0.4444444444444444,
              "#bd3786"
             ],
             [
              0.5555555555555556,
              "#d8576b"
             ],
             [
              0.6666666666666666,
              "#ed7953"
             ],
             [
              0.7777777777777778,
              "#fb9f3a"
             ],
             [
              0.8888888888888888,
              "#fdca26"
             ],
             [
              1,
              "#f0f921"
             ]
            ],
            "type": "contour"
           }
          ],
          "contourcarpet": [
           {
            "colorbar": {
             "outlinewidth": 0,
             "ticks": ""
            },
            "type": "contourcarpet"
           }
          ],
          "heatmap": [
           {
            "colorbar": {
             "outlinewidth": 0,
             "ticks": ""
            },
            "colorscale": [
             [
              0,
              "#0d0887"
             ],
             [
              0.1111111111111111,
              "#46039f"
             ],
             [
              0.2222222222222222,
              "#7201a8"
             ],
             [
              0.3333333333333333,
              "#9c179e"
             ],
             [
              0.4444444444444444,
              "#bd3786"
             ],
             [
              0.5555555555555556,
              "#d8576b"
             ],
             [
              0.6666666666666666,
              "#ed7953"
             ],
             [
              0.7777777777777778,
              "#fb9f3a"
             ],
             [
              0.8888888888888888,
              "#fdca26"
             ],
             [
              1,
              "#f0f921"
             ]
            ],
            "type": "heatmap"
           }
          ],
          "heatmapgl": [
           {
            "colorbar": {
             "outlinewidth": 0,
             "ticks": ""
            },
            "colorscale": [
             [
              0,
              "#0d0887"
             ],
             [
              0.1111111111111111,
              "#46039f"
             ],
             [
              0.2222222222222222,
              "#7201a8"
             ],
             [
              0.3333333333333333,
              "#9c179e"
             ],
             [
              0.4444444444444444,
              "#bd3786"
             ],
             [
              0.5555555555555556,
              "#d8576b"
             ],
             [
              0.6666666666666666,
              "#ed7953"
             ],
             [
              0.7777777777777778,
              "#fb9f3a"
             ],
             [
              0.8888888888888888,
              "#fdca26"
             ],
             [
              1,
              "#f0f921"
             ]
            ],
            "type": "heatmapgl"
           }
          ],
          "histogram": [
           {
            "marker": {
             "pattern": {
              "fillmode": "overlay",
              "size": 10,
              "solidity": 0.2
             }
            },
            "type": "histogram"
           }
          ],
          "histogram2d": [
           {
            "colorbar": {
             "outlinewidth": 0,
             "ticks": ""
            },
            "colorscale": [
             [
              0,
              "#0d0887"
             ],
             [
              0.1111111111111111,
              "#46039f"
             ],
             [
              0.2222222222222222,
              "#7201a8"
             ],
             [
              0.3333333333333333,
              "#9c179e"
             ],
             [
              0.4444444444444444,
              "#bd3786"
             ],
             [
              0.5555555555555556,
              "#d8576b"
             ],
             [
              0.6666666666666666,
              "#ed7953"
             ],
             [
              0.7777777777777778,
              "#fb9f3a"
             ],
             [
              0.8888888888888888,
              "#fdca26"
             ],
             [
              1,
              "#f0f921"
             ]
            ],
            "type": "histogram2d"
           }
          ],
          "histogram2dcontour": [
           {
            "colorbar": {
             "outlinewidth": 0,
             "ticks": ""
            },
            "colorscale": [
             [
              0,
              "#0d0887"
             ],
             [
              0.1111111111111111,
              "#46039f"
             ],
             [
              0.2222222222222222,
              "#7201a8"
             ],
             [
              0.3333333333333333,
              "#9c179e"
             ],
             [
              0.4444444444444444,
              "#bd3786"
             ],
             [
              0.5555555555555556,
              "#d8576b"
             ],
             [
              0.6666666666666666,
              "#ed7953"
             ],
             [
              0.7777777777777778,
              "#fb9f3a"
             ],
             [
              0.8888888888888888,
              "#fdca26"
             ],
             [
              1,
              "#f0f921"
             ]
            ],
            "type": "histogram2dcontour"
           }
          ],
          "mesh3d": [
           {
            "colorbar": {
             "outlinewidth": 0,
             "ticks": ""
            },
            "type": "mesh3d"
           }
          ],
          "parcoords": [
           {
            "line": {
             "colorbar": {
              "outlinewidth": 0,
              "ticks": ""
             }
            },
            "type": "parcoords"
           }
          ],
          "pie": [
           {
            "automargin": true,
            "type": "pie"
           }
          ],
          "scatter": [
           {
            "fillpattern": {
             "fillmode": "overlay",
             "size": 10,
             "solidity": 0.2
            },
            "type": "scatter"
           }
          ],
          "scatter3d": [
           {
            "line": {
             "colorbar": {
              "outlinewidth": 0,
              "ticks": ""
             }
            },
            "marker": {
             "colorbar": {
              "outlinewidth": 0,
              "ticks": ""
             }
            },
            "type": "scatter3d"
           }
          ],
          "scattercarpet": [
           {
            "marker": {
             "colorbar": {
              "outlinewidth": 0,
              "ticks": ""
             }
            },
            "type": "scattercarpet"
           }
          ],
          "scattergeo": [
           {
            "marker": {
             "colorbar": {
              "outlinewidth": 0,
              "ticks": ""
             }
            },
            "type": "scattergeo"
           }
          ],
          "scattergl": [
           {
            "marker": {
             "colorbar": {
              "outlinewidth": 0,
              "ticks": ""
             }
            },
            "type": "scattergl"
           }
          ],
          "scattermapbox": [
           {
            "marker": {
             "colorbar": {
              "outlinewidth": 0,
              "ticks": ""
             }
            },
            "type": "scattermapbox"
           }
          ],
          "scatterpolar": [
           {
            "marker": {
             "colorbar": {
              "outlinewidth": 0,
              "ticks": ""
             }
            },
            "type": "scatterpolar"
           }
          ],
          "scatterpolargl": [
           {
            "marker": {
             "colorbar": {
              "outlinewidth": 0,
              "ticks": ""
             }
            },
            "type": "scatterpolargl"
           }
          ],
          "scatterternary": [
           {
            "marker": {
             "colorbar": {
              "outlinewidth": 0,
              "ticks": ""
             }
            },
            "type": "scatterternary"
           }
          ],
          "surface": [
           {
            "colorbar": {
             "outlinewidth": 0,
             "ticks": ""
            },
            "colorscale": [
             [
              0,
              "#0d0887"
             ],
             [
              0.1111111111111111,
              "#46039f"
             ],
             [
              0.2222222222222222,
              "#7201a8"
             ],
             [
              0.3333333333333333,
              "#9c179e"
             ],
             [
              0.4444444444444444,
              "#bd3786"
             ],
             [
              0.5555555555555556,
              "#d8576b"
             ],
             [
              0.6666666666666666,
              "#ed7953"
             ],
             [
              0.7777777777777778,
              "#fb9f3a"
             ],
             [
              0.8888888888888888,
              "#fdca26"
             ],
             [
              1,
              "#f0f921"
             ]
            ],
            "type": "surface"
           }
          ],
          "table": [
           {
            "cells": {
             "fill": {
              "color": "#EBF0F8"
             },
             "line": {
              "color": "white"
             }
            },
            "header": {
             "fill": {
              "color": "#C8D4E3"
             },
             "line": {
              "color": "white"
             }
            },
            "type": "table"
           }
          ]
         },
         "layout": {
          "annotationdefaults": {
           "arrowcolor": "#2a3f5f",
           "arrowhead": 0,
           "arrowwidth": 1
          },
          "autotypenumbers": "strict",
          "coloraxis": {
           "colorbar": {
            "outlinewidth": 0,
            "ticks": ""
           }
          },
          "colorscale": {
           "diverging": [
            [
             0,
             "#8e0152"
            ],
            [
             0.1,
             "#c51b7d"
            ],
            [
             0.2,
             "#de77ae"
            ],
            [
             0.3,
             "#f1b6da"
            ],
            [
             0.4,
             "#fde0ef"
            ],
            [
             0.5,
             "#f7f7f7"
            ],
            [
             0.6,
             "#e6f5d0"
            ],
            [
             0.7,
             "#b8e186"
            ],
            [
             0.8,
             "#7fbc41"
            ],
            [
             0.9,
             "#4d9221"
            ],
            [
             1,
             "#276419"
            ]
           ],
           "sequential": [
            [
             0,
             "#0d0887"
            ],
            [
             0.1111111111111111,
             "#46039f"
            ],
            [
             0.2222222222222222,
             "#7201a8"
            ],
            [
             0.3333333333333333,
             "#9c179e"
            ],
            [
             0.4444444444444444,
             "#bd3786"
            ],
            [
             0.5555555555555556,
             "#d8576b"
            ],
            [
             0.6666666666666666,
             "#ed7953"
            ],
            [
             0.7777777777777778,
             "#fb9f3a"
            ],
            [
             0.8888888888888888,
             "#fdca26"
            ],
            [
             1,
             "#f0f921"
            ]
           ],
           "sequentialminus": [
            [
             0,
             "#0d0887"
            ],
            [
             0.1111111111111111,
             "#46039f"
            ],
            [
             0.2222222222222222,
             "#7201a8"
            ],
            [
             0.3333333333333333,
             "#9c179e"
            ],
            [
             0.4444444444444444,
             "#bd3786"
            ],
            [
             0.5555555555555556,
             "#d8576b"
            ],
            [
             0.6666666666666666,
             "#ed7953"
            ],
            [
             0.7777777777777778,
             "#fb9f3a"
            ],
            [
             0.8888888888888888,
             "#fdca26"
            ],
            [
             1,
             "#f0f921"
            ]
           ]
          },
          "colorway": [
           "#636efa",
           "#EF553B",
           "#00cc96",
           "#ab63fa",
           "#FFA15A",
           "#19d3f3",
           "#FF6692",
           "#B6E880",
           "#FF97FF",
           "#FECB52"
          ],
          "font": {
           "color": "#2a3f5f"
          },
          "geo": {
           "bgcolor": "white",
           "lakecolor": "white",
           "landcolor": "#E5ECF6",
           "showlakes": true,
           "showland": true,
           "subunitcolor": "white"
          },
          "hoverlabel": {
           "align": "left"
          },
          "hovermode": "closest",
          "mapbox": {
           "style": "light"
          },
          "paper_bgcolor": "white",
          "plot_bgcolor": "#E5ECF6",
          "polar": {
           "angularaxis": {
            "gridcolor": "white",
            "linecolor": "white",
            "ticks": ""
           },
           "bgcolor": "#E5ECF6",
           "radialaxis": {
            "gridcolor": "white",
            "linecolor": "white",
            "ticks": ""
           }
          },
          "scene": {
           "xaxis": {
            "backgroundcolor": "#E5ECF6",
            "gridcolor": "white",
            "gridwidth": 2,
            "linecolor": "white",
            "showbackground": true,
            "ticks": "",
            "zerolinecolor": "white"
           },
           "yaxis": {
            "backgroundcolor": "#E5ECF6",
            "gridcolor": "white",
            "gridwidth": 2,
            "linecolor": "white",
            "showbackground": true,
            "ticks": "",
            "zerolinecolor": "white"
           },
           "zaxis": {
            "backgroundcolor": "#E5ECF6",
            "gridcolor": "white",
            "gridwidth": 2,
            "linecolor": "white",
            "showbackground": true,
            "ticks": "",
            "zerolinecolor": "white"
           }
          },
          "shapedefaults": {
           "line": {
            "color": "#2a3f5f"
           }
          },
          "ternary": {
           "aaxis": {
            "gridcolor": "white",
            "linecolor": "white",
            "ticks": ""
           },
           "baxis": {
            "gridcolor": "white",
            "linecolor": "white",
            "ticks": ""
           },
           "bgcolor": "#E5ECF6",
           "caxis": {
            "gridcolor": "white",
            "linecolor": "white",
            "ticks": ""
           }
          },
          "title": {
           "x": 0.05
          },
          "xaxis": {
           "automargin": true,
           "gridcolor": "white",
           "linecolor": "white",
           "ticks": "",
           "title": {
            "standoff": 15
           },
           "zerolinecolor": "white",
           "zerolinewidth": 2
          },
          "yaxis": {
           "automargin": true,
           "gridcolor": "white",
           "linecolor": "white",
           "ticks": "",
           "title": {
            "standoff": 15
           },
           "zerolinecolor": "white",
           "zerolinewidth": 2
          }
         }
        },
        "title": {
         "text": "Live 5-Minute Interval Candlestick Prediction (5 Min Ahead)"
        },
        "xaxis": {
         "autorange": true,
         "range": [
          "2024-09-23 14:02:30",
          "2024-09-23 15:07:30"
         ],
         "rangeslider": {
          "autorange": true,
          "range": [
           "2024-09-23 14:02:30",
           "2024-09-23 15:07:30"
          ],
          "yaxis": {
           "_template": null,
           "rangemode": "match"
          }
         },
         "title": {
          "text": "Timestamp"
         },
         "type": "date"
        },
        "yaxis": {
         "autorange": true,
         "range": [
          54045.886067708336,
          54203.164713541664
         ],
         "title": {
          "text": "Price"
         }
        }
       }
      },
      "image/png": "[encoded data removed]",
      "text/html": [
       "<div>                            <div id=\"b9157824-a056-4e45-afa5-dd0bf2dd1392\" class=\"plotly-graph-div\" style=\"height:525px; width:100%;\"></div>            <script type=\"text/javascript\">                require([\"plotly\"], function(Plotly) {                    window.PLOTLYENV=window.PLOTLYENV || {};                                    if (document.getElementById(\"b9157824-a056-4e45-afa5-dd0bf2dd1392\")) {                    Plotly.newPlot(                        \"b9157824-a056-4e45-afa5-dd0bf2dd1392\",                        [{\"close\":[54084.25,54069.6484375,54135.0,54174.94921875,54144.30078125,54129.75,54147.6015625,54151.80078125,54186.25,54149.1015625,54120.0,54123.1015625,54123.1015625,54123.1015625,54126.30078125,54126.30078125,54129.8984375,54129.8984375,54129.8515625,54136.69921875,54136.69921875,54147.8984375,54147.8984375,54156.6484375],\"high\":[54091.6484375,54090.1015625,54146.6015625,54188.30078125,54195.30078125,54165.75,54170.6484375,54157.6015625,54194.5,54187.1015625,54152.94921875,54145.19921875,54145.19921875,54145.19921875,54145.19921875,54145.19921875,54145.19921875,54145.19921875,54145.19921875,54145.19921875,54145.19921875,54147.8984375,54147.8984375,54156.6484375],\"low\":[54064.8984375,54053.75,54068.80078125,54130.44921875,54141.55078125,54106.1484375,54112.44921875,54138.69921875,54145.30078125,54130.44921875,54111.44921875,54071.6015625,54071.6015625,54071.6015625,54071.6015625,54071.6015625,54071.6015625,54071.6015625,54071.6015625,54071.6015625,54071.6015625,54071.6015625,54071.6015625,54156.6484375],\"name\":\"Actual Candlestick\",\"open\":[54084.75,54084.1484375,54075.6484375,54133.1484375,54181.8515625,54144.6484375,54129.30078125,54147.80078125,54149.1015625,54185.05078125,54152.94921875,54118.6015625,54118.6015625,54118.6015625,54118.6015625,54118.6015625,54118.6015625,54118.6015625,54118.6015625,54118.6015625,54118.6015625,54118.6015625,54118.6015625,54156.6484375],\"x\":[\"2024-09-23T14:05:00+05:30\",\"2024-09-23T14:10:00+05:30\",\"2024-09-23T14:15:00+05:30\",\"2024-09-23T14:20:00+05:30\",\"2024-09-23T14:25:00+05:30\",\"2024-09-23T14:30:00+05:30\",\"2024-09-23T14:35:00+05:30\",\"2024-09-23T14:40:00+05:30\",\"2024-09-23T14:45:00+05:30\",\"2024-09-23T14:50:00+05:30\",\"2024-09-23T14:55:00+05:30\",\"2024-09-23T15:00:00+05:30\",\"2024-09-23T15:00:00+05:30\",\"2024-09-23T15:00:00+05:30\",\"2024-09-23T15:00:00+05:30\",\"2024-09-23T15:00:00+05:30\",\"2024-09-23T15:00:00+05:30\",\"2024-09-23T15:00:00+05:30\",\"2024-09-23T15:00:00+05:30\",\"2024-09-23T15:00:00+05:30\",\"2024-09-23T15:00:00+05:30\",\"2024-09-23T15:00:00+05:30\",\"2024-09-23T15:00:00+05:30\",\"2024-09-23T15:05:00+05:30\"],\"type\":\"candlestick\"},{\"close\":[54131.11486557126,54131.11486557126,54133.61834615469,54133.61834615469,54136.43163716793,54136.43163716793,54136.39494532347,54141.743277192116,54141.743277192116,54150.581078350544,54150.581078350544,54154.20145779848],\"high\":[54091.6484375,54090.1015625,54146.6015625,54188.30078125,54195.30078125,54165.75,54170.6484375,54157.6015625,54194.5,54187.1015625,54152.94921875,54145.19921875,54145.19921875,54145.19921875,54145.19921875,54145.19921875,54145.19921875,54145.19921875,54145.19921875,54145.19921875,54145.19921875,54147.8984375,54147.8984375,54156.6484375],\"low\":[54064.8984375,54053.75,54068.80078125,54130.44921875,54141.55078125,54106.1484375,54112.44921875,54138.69921875,54145.30078125,54130.44921875,54111.44921875,54071.6015625,54071.6015625,54071.6015625,54071.6015625,54071.6015625,54071.6015625,54071.6015625,54071.6015625,54071.6015625,54071.6015625,54071.6015625,54071.6015625,54156.6484375],\"name\":\"Candlestick\",\"open\":[54084.75,54084.1484375,54075.6484375,54133.1484375,54181.8515625,54144.6484375,54129.30078125,54147.80078125,54149.1015625,54185.05078125,54152.94921875,54118.6015625,54118.6015625,54118.6015625,54118.6015625,54118.6015625,54118.6015625,54118.6015625,54118.6015625,54118.6015625,54118.6015625,54118.6015625,54118.6015625,54156.6484375],\"x\":[\"2024-09-23T14:05:00+05:30\",\"2024-09-23T14:10:00+05:30\",\"2024-09-23T14:15:00+05:30\",\"2024-09-23T14:20:00+05:30\",\"2024-09-23T14:25:00+05:30\",\"2024-09-23T14:30:00+05:30\",\"2024-09-23T14:35:00+05:30\",\"2024-09-23T14:40:00+05:30\",\"2024-09-23T14:45:00+05:30\",\"2024-09-23T14:50:00+05:30\",\"2024-09-23T14:55:00+05:30\",\"2024-09-23T15:00:00+05:30\",\"2024-09-23T15:00:00+05:30\",\"2024-09-23T15:00:00+05:30\",\"2024-09-23T15:00:00+05:30\",\"2024-09-23T15:00:00+05:30\",\"2024-09-23T15:00:00+05:30\",\"2024-09-23T15:00:00+05:30\",\"2024-09-23T15:00:00+05:30\",\"2024-09-23T15:00:00+05:30\",\"2024-09-23T15:00:00+05:30\",\"2024-09-23T15:00:00+05:30\",\"2024-09-23T15:00:00+05:30\",\"2024-09-23T15:05:00+05:30\"],\"type\":\"candlestick\"}],                        {\"template\":{\"data\":{\"histogram2dcontour\":[{\"type\":\"histogram2dcontour\",\"colorbar\":{\"outlinewidth\":0,\"ticks\":\"\"},\"colorscale\":[[0.0,\"#0d0887\"],[0.1111111111111111,\"#46039f\"],[0.2222222222222222,\"#7201a8\"],[0.3333333333333333,\"#9c179e\"],[0.4444444444444444,\"#bd3786\"],[0.5555555555555556,\"#d8576b\"],[0.6666666666666666,\"#ed7953\"],[0.7777777777777778,\"#fb9f3a\"],[0.8888888888888888,\"#fdca26\"],[1.0,\"#f0f921\"]]}],\"choropleth\":[{\"type\":\"choropleth\",\"colorbar\":{\"outlinewidth\":0,\"ticks\":\"\"}}],\"histogram2d\":[{\"type\":\"histogram2d\",\"colorbar\":{\"outlinewidth\":0,\"ticks\":\"\"},\"colorscale\":[[0.0,\"#0d0887\"],[0.1111111111111111,\"#46039f\"],[0.2222222222222222,\"#7201a8\"],[0.3333333333333333,\"#9c179e\"],[0.4444444444444444,\"#bd3786\"],[0.5555555555555556,\"#d8576b\"],[0.6666666666666666,\"#ed7953\"],[0.7777777777777778,\"#fb9f3a\"],[0.8888888888888888,\"#fdca26\"],[1.0,\"#f0f921\"]]}],\"heatmap\":[{\"type\":\"heatmap\",\"colorbar\":{\"outlinewidth\":0,\"ticks\":\"\"},\"colorscale\":[[0.0,\"#0d0887\"],[0.1111111111111111,\"#46039f\"],[0.2222222222222222,\"#7201a8\"],[0.3333333333333333,\"#9c179e\"],[0.4444444444444444,\"#bd3786\"],[0.5555555555555556,\"#d8576b\"],[0.6666666666666666,\"#ed7953\"],[0.7777777777777778,\"#fb9f3a\"],[0.8888888888888888,\"#fdca26\"],[1.0,\"#f0f921\"]]}],\"heatmapgl\":[{\"type\":\"heatmapgl\",\"colorbar\":{\"outlinewidth\":0,\"ticks\":\"\"},\"colorscale\":[[0.0,\"#0d0887\"],[0.1111111111111111,\"#46039f\"],[0.2222222222222222,\"#7201a8\"],[0.3333333333333333,\"#9c179e\"],[0.4444444444444444,\"#bd3786\"],[0.5555555555555556,\"#d8576b\"],[0.6666666666666666,\"#ed7953\"],[0.7777777777777778,\"#fb9f3a\"],[0.8888888888888888,\"#fdca26\"],[1.0,\"#f0f921\"]]}],\"contourcarpet\":[{\"type\":\"contourcarpet\",\"colorbar\":{\"outlinewidth\":0,\"ticks\":\"\"}}],\"contour\":[{\"type\":\"contour\",\"colorbar\":{\"outlinewidth\":0,\"ticks\":\"\"},\"colorscale\":[[0.0,\"#0d0887\"],[0.1111111111111111,\"#46039f\"],[0.2222222222222222,\"#7201a8\"],[0.3333333333333333,\"#9c179e\"],[0.4444444444444444,\"#bd3786\"],[0.5555555555555556,\"#d8576b\"],[0.6666666666666666,\"#ed7953\"],[0.7777777777777778,\"#fb9f3a\"],[0.8888888888888888,\"#fdca26\"],[1.0,\"#f0f921\"]]}],\"surface\":[{\"type\":\"surface\",\"colorbar\":{\"outlinewidth\":0,\"ticks\":\"\"},\"colorscale\":[[0.0,\"#0d0887\"],[0.1111111111111111,\"#46039f\"],[0.2222222222222222,\"#7201a8\"],[0.3333333333333333,\"#9c179e\"],[0.4444444444444444,\"#bd3786\"],[0.5555555555555556,\"#d8576b\"],[0.6666666666666666,\"#ed7953\"],[0.7777777777777778,\"#fb9f3a\"],[0.8888888888888888,\"#fdca26\"],[1.0,\"#f0f921\"]]}],\"mesh3d\":[{\"type\":\"mesh3d\",\"colorbar\":{\"outlinewidth\":0,\"ticks\":\"\"}}],\"scatter\":[{\"fillpattern\":{\"fillmode\":\"overlay\",\"size\":10,\"solidity\":0.2},\"type\":\"scatter\"}],\"parcoords\":[{\"type\":\"parcoords\",\"line\":{\"colorbar\":{\"outlinewidth\":0,\"ticks\":\"\"}}}],\"scatterpolargl\":[{\"type\":\"scatterpolargl\",\"marker\":{\"colorbar\":{\"outlinewidth\":0,\"ticks\":\"\"}}}],\"bar\":[{\"error_x\":{\"color\":\"#2a3f5f\"},\"error_y\":{\"color\":\"#2a3f5f\"},\"marker\":{\"line\":{\"color\":\"#E5ECF6\",\"width\":0.5},\"pattern\":{\"fillmode\":\"overlay\",\"size\":10,\"solidity\":0.2}},\"type\":\"bar\"}],\"scattergeo\":[{\"type\":\"scattergeo\",\"marker\":{\"colorbar\":{\"outlinewidth\":0,\"ticks\":\"\"}}}],\"scatterpolar\":[{\"type\":\"scatterpolar\",\"marker\":{\"colorbar\":{\"outlinewidth\":0,\"ticks\":\"\"}}}],\"histogram\":[{\"marker\":{\"pattern\":{\"fillmode\":\"overlay\",\"size\":10,\"solidity\":0.2}},\"type\":\"histogram\"}],\"scattergl\":[{\"type\":\"scattergl\",\"marker\":{\"colorbar\":{\"outlinewidth\":0,\"ticks\":\"\"}}}],\"scatter3d\":[{\"type\":\"scatter3d\",\"line\":{\"colorbar\":{\"outlinewidth\":0,\"ticks\":\"\"}},\"marker\":{\"colorbar\":{\"outlinewidth\":0,\"ticks\":\"\"}}}],\"scattermapbox\":[{\"type\":\"scattermapbox\",\"marker\":{\"colorbar\":{\"outlinewidth\":0,\"ticks\":\"\"}}}],\"scatterternary\":[{\"type\":\"scatterternary\",\"marker\":{\"colorbar\":{\"outlinewidth\":0,\"ticks\":\"\"}}}],\"scattercarpet\":[{\"type\":\"scattercarpet\",\"marker\":{\"colorbar\":{\"outlinewidth\":0,\"ticks\":\"\"}}}],\"carpet\":[{\"aaxis\":{\"endlinecolor\":\"#2a3f5f\",\"gridcolor\":\"white\",\"linecolor\":\"white\",\"minorgridcolor\":\"white\",\"startlinecolor\":\"#2a3f5f\"},\"baxis\":{\"endlinecolor\":\"#2a3f5f\",\"gridcolor\":\"white\",\"linecolor\":\"white\",\"minorgridcolor\":\"white\",\"startlinecolor\":\"#2a3f5f\"},\"type\":\"carpet\"}],\"table\":[{\"cells\":{\"fill\":{\"color\":\"#EBF0F8\"},\"line\":{\"color\":\"white\"}},\"header\":{\"fill\":{\"color\":\"#C8D4E3\"},\"line\":{\"color\":\"white\"}},\"type\":\"table\"}],\"barpolar\":[{\"marker\":{\"line\":{\"color\":\"#E5ECF6\",\"width\":0.5},\"pattern\":{\"fillmode\":\"overlay\",\"size\":10,\"solidity\":0.2}},\"type\":\"barpolar\"}],\"pie\":[{\"automargin\":true,\"type\":\"pie\"}]},\"layout\":{\"autotypenumbers\":\"strict\",\"colorway\":[\"#636efa\",\"#EF553B\",\"#00cc96\",\"#ab63fa\",\"#FFA15A\",\"#19d3f3\",\"#FF6692\",\"#B6E880\",\"#FF97FF\",\"#FECB52\"],\"font\":{\"color\":\"#2a3f5f\"},\"hovermode\":\"closest\",\"hoverlabel\":{\"align\":\"left\"},\"paper_bgcolor\":\"white\",\"plot_bgcolor\":\"#E5ECF6\",\"polar\":{\"bgcolor\":\"#E5ECF6\",\"angularaxis\":{\"gridcolor\":\"white\",\"linecolor\":\"white\",\"ticks\":\"\"},\"radialaxis\":{\"gridcolor\":\"white\",\"linecolor\":\"white\",\"ticks\":\"\"}},\"ternary\":{\"bgcolor\":\"#E5ECF6\",\"aaxis\":{\"gridcolor\":\"white\",\"linecolor\":\"white\",\"ticks\":\"\"},\"baxis\":{\"gridcolor\":\"white\",\"linecolor\":\"white\",\"ticks\":\"\"},\"caxis\":{\"gridcolor\":\"white\",\"linecolor\":\"white\",\"ticks\":\"\"}},\"coloraxis\":{\"colorbar\":{\"outlinewidth\":0,\"ticks\":\"\"}},\"colorscale\":{\"sequential\":[[0.0,\"#0d0887\"],[0.1111111111111111,\"#46039f\"],[0.2222222222222222,\"#7201a8\"],[0.3333333333333333,\"#9c179e\"],[0.4444444444444444,\"#bd3786\"],[0.5555555555555556,\"#d8576b\"],[0.6666666666666666,\"#ed7953\"],[0.7777777777777778,\"#fb9f3a\"],[0.8888888888888888,\"#fdca26\"],[1.0,\"#f0f921\"]],\"sequentialminus\":[[0.0,\"#0d0887\"],[0.1111111111111111,\"#46039f\"],[0.2222222222222222,\"#7201a8\"],[0.3333333333333333,\"#9c179e\"],[0.4444444444444444,\"#bd3786\"],[0.5555555555555556,\"#d8576b\"],[0.6666666666666666,\"#ed7953\"],[0.7777777777777778,\"#fb9f3a\"],[0.8888888888888888,\"#fdca26\"],[1.0,\"#f0f921\"]],\"diverging\":[[0,\"#8e0152\"],[0.1,\"#c51b7d\"],[0.2,\"#de77ae\"],[0.3,\"#f1b6da\"],[0.4,\"#fde0ef\"],[0.5,\"#f7f7f7\"],[0.6,\"#e6f5d0\"],[0.7,\"#b8e186\"],[0.8,\"#7fbc41\"],[0.9,\"#4d9221\"],[1,\"#276419\"]]},\"xaxis\":{\"gridcolor\":\"white\",\"linecolor\":\"white\",\"ticks\":\"\",\"title\":{\"standoff\":15},\"zerolinecolor\":\"white\",\"automargin\":true,\"zerolinewidth\":2},\"yaxis\":{\"gridcolor\":\"white\",\"linecolor\":\"white\",\"ticks\":\"\",\"title\":{\"standoff\":15},\"zerolinecolor\":\"white\",\"automargin\":true,\"zerolinewidth\":2},\"scene\":{\"xaxis\":{\"backgroundcolor\":\"#E5ECF6\",\"gridcolor\":\"white\",\"linecolor\":\"white\",\"showbackground\":true,\"ticks\":\"\",\"zerolinecolor\":\"white\",\"gridwidth\":2},\"yaxis\":{\"backgroundcolor\":\"#E5ECF6\",\"gridcolor\":\"white\",\"linecolor\":\"white\",\"showbackground\":true,\"ticks\":\"\",\"zerolinecolor\":\"white\",\"gridwidth\":2},\"zaxis\":{\"backgroundcolor\":\"#E5ECF6\",\"gridcolor\":\"white\",\"linecolor\":\"white\",\"showbackground\":true,\"ticks\":\"\",\"zerolinecolor\":\"white\",\"gridwidth\":2}},\"shapedefaults\":{\"line\":{\"color\":\"#2a3f5f\"}},\"annotationdefaults\":{\"arrowcolor\":\"#2a3f5f\",\"arrowhead\":0,\"arrowwidth\":1},\"geo\":{\"bgcolor\":\"white\",\"landcolor\":\"#E5ECF6\",\"subunitcolor\":\"white\",\"showland\":true,\"showlakes\":true,\"lakecolor\":\"white\"},\"title\":{\"x\":0.05},\"mapbox\":{\"style\":\"light\"}}},\"hoverlabel\":{\"namelength\":-1},\"title\":{\"text\":\"Live 5-Minute Interval Candlestick Prediction (5 Min Ahead)\"},\"xaxis\":{\"title\":{\"text\":\"Timestamp\"}},\"yaxis\":{\"title\":{\"text\":\"Price\"}},\"hovermode\":\"x unified\"},                        {\"responsive\": true}                    ).then(function(){\n",
       "                            \n",
       "var gd = document.getElementById('b9157824-a056-4e45-afa5-dd0bf2dd1392');\n",
       "var x = new MutationObserver(function (mutations, observer) {{\n",
       "        var display = window.getComputedStyle(gd).display;\n",
       "        if (!display || display === 'none') {{\n",
       "            console.log([gd, 'removed!']);\n",
       "            Plotly.purge(gd);\n",
       "            observer.disconnect();\n",
       "        }}\n",
       "}});\n",
       "\n",
       "// Listen for the removal of the full notebook cells\n",
       "var notebookContainer = gd.closest('#notebook-container');\n",
       "if (notebookContainer) {{\n",
       "    x.observe(notebookContainer, {childList: true});\n",
       "}}\n",
       "\n",
       "// Listen for the clearing of the current output cell\n",
       "var outputEl = gd.closest('.output');\n",
       "if (outputEl) {{\n",
       "    x.observe(outputEl, {childList: true});\n",
       "}}\n",
       "\n",
       "                        })                };                });            </script>        </div>"
      ]
     },
     "metadata": {},
     "output_type": "display_data"
    },
    {
     "name": "stderr",
     "output_type": "stream",
     "text": [
      "[*********************100%***********************]  1 of 1 completed\n",
      "ERROR:yfinance:\n",
      "1 Failed download:\n",
      "ERROR:yfinance:['^NSEBANK']: ReadTimeout(ReadTimeoutError(\"HTTPSConnectionPool(host='query2.finance.yahoo.com', port=443): Read timed out. (read timeout=10)\"))\n"
     ]
    },
    {
     "name": "stdout",
     "output_type": "stream",
     "text": [
      "No live data found! Skipping this cycle.\n"
     ]
    },
    {
     "ename": "KeyboardInterrupt",
     "evalue": "",
     "output_type": "error",
     "traceback": [
      "\u001b[1;31m---------------------------------------------------------------------------\u001b[0m",
      "\u001b[1;31mKeyboardInterrupt\u001b[0m                         Traceback (most recent call last)",
      "Cell \u001b[1;32mIn[1], line 142\u001b[0m\n\u001b[0;32m    139\u001b[0m         time\u001b[38;5;241m.\u001b[39msleep(\u001b[38;5;241m5\u001b[39m)\n\u001b[0;32m    141\u001b[0m \u001b[38;5;66;03m# Start the live prediction and graph update\u001b[39;00m\n\u001b[1;32m--> 142\u001b[0m \u001b[43mpredict_live_data\u001b[49m\u001b[43m(\u001b[49m\u001b[43m)\u001b[49m\n",
      "Cell \u001b[1;32mIn[1], line 49\u001b[0m, in \u001b[0;36mpredict_live_data\u001b[1;34m()\u001b[0m\n\u001b[0;32m     47\u001b[0m \u001b[38;5;28;01mif\u001b[39;00m live_data\u001b[38;5;241m.\u001b[39mempty:\n\u001b[0;32m     48\u001b[0m     \u001b[38;5;28mprint\u001b[39m(\u001b[38;5;124m\"\u001b[39m\u001b[38;5;124mNo live data found! Skipping this cycle.\u001b[39m\u001b[38;5;124m\"\u001b[39m)\n\u001b[1;32m---> 49\u001b[0m     \u001b[43mtime\u001b[49m\u001b[38;5;241;43m.\u001b[39;49m\u001b[43msleep\u001b[49m\u001b[43m(\u001b[49m\u001b[38;5;241;43m300\u001b[39;49m\u001b[43m)\u001b[49m  \u001b[38;5;66;03m# Wait 5 minutes and try again\u001b[39;00m\n\u001b[0;32m     50\u001b[0m     \u001b[38;5;28;01mcontinue\u001b[39;00m\n\u001b[0;32m     52\u001b[0m \u001b[38;5;66;03m# Preprocess live data\u001b[39;00m\n",
      "\u001b[1;31mKeyboardInterrupt\u001b[0m: "
     ]
    }
   ],
   "source": [
    "import yfinance as yf\n",
    "import numpy as np\n",
    "import pandas as pd\n",
    "from sklearn.preprocessing import MinMaxScaler\n",
    "import time\n",
    "import plotly.graph_objects as go\n",
    "from tensorflow.keras.models import load_model\n",
    "from IPython.display import display, clear_output\n",
    "\n",
    "# Load your trained model for 5-minute future prediction\n",
    "model_5min = load_model('model_5min.h5')\n",
    "\n",
    "# Fetch historical Bank Nifty data to fit the scaler (so it matches your training)\n",
    "ticker = \"^NDX\"\n",
    "historical_data = yf.download(ticker, period='1d', interval='5m')\n",
    "\n",
    "# Preprocess the historical data\n",
    "if not historical_data.empty:\n",
    "    historical_data = historical_data[['Open', 'High', 'Low', 'Close']]\n",
    "    scaler = MinMaxScaler(feature_range=(0, 1))\n",
    "\n",
    "    # Fit the scaler only on historical data\n",
    "    scaled_historical_data = scaler.fit_transform(historical_data)\n",
    "else:\n",
    "    print(\"No historical data found!\")\n",
    "\n",
    "# Initialize empty lists to store timestamps and candlestick data\n",
    "timestamps = []\n",
    "open_prices = []\n",
    "high_prices = []\n",
    "low_prices = []\n",
    "predicted_closes = []\n",
    "\n",
    "# Function for live prediction\n",
    "def predict_live_data():\n",
    "    live_data_accumulated = []  # Accumulate live data over time\n",
    "\n",
    "    while True:\n",
    "        # Fetch and preprocess live data (1 minute intervals)\n",
    "        live_data = yf.download(ticker, period='1d', interval='1m')\n",
    "\n",
    "        # Check if live data is empty\n",
    "        if live_data.empty:\n",
    "            print(\"No live data found! Skipping this cycle.\")\n",
    "            time.sleep(60)  # Wait 1 minute and try again\n",
    "            continue\n",
    "\n",
    "        # Preprocess live data\n",
    "        live_data = live_data[['Open', 'High', 'Low', 'Close']]\n",
    "\n",
    "        # Append the new live data to the accumulated list\n",
    "        live_data_accumulated.append(live_data)\n",
    "\n",
    "        # Concatenate accumulated data into a single DataFrame\n",
    "        live_data_full = pd.concat(live_data_accumulated)\n",
    "\n",
    "        # Apply the scaler\n",
    "        try:\n",
    "            scaled_live_data = scaler.transform(live_data_full)\n",
    "        except ValueError as e:\n",
    "            print(f\"Error scaling live data: {e}\")\n",
    "            time.sleep(60)  # Wait 1 minute and try again\n",
    "            continue\n",
    "\n",
    "        # Use the last 60 data points for prediction (make sure there's enough data)\n",
    "        if len(scaled_live_data) < 60:\n",
    "            print(\"Not enough data for prediction! Waiting for more data.\")\n",
    "            time.sleep(60)\n",
    "            continue\n",
    "\n",
    "        # The model should now predict 5 minutes into the future\n",
    "        X_live = np.array([scaled_live_data[-60:]])\n",
    "\n",
    "        # Reshape to match the LSTM model's input shape\n",
    "        X_live = np.reshape(X_live, (X_live.shape[0], X_live.shape[1], 4))\n",
    "\n",
    "        # Make prediction for 5 minutes into the future\n",
    "        predicted_price = model_5min.predict(X_live)\n",
    "\n",
    "        # Inverse transform to get the actual predicted price (predicted 5-min ahead close price)\n",
    "        predicted_close_price = scaler.inverse_transform([[0, 0, 0, predicted_price[0][0]]])[0][3]\n",
    "\n",
    "        # Get the current timestamp and other OHLC values from live data\n",
    "        current_time = live_data.index[-1]\n",
    "        open_price = live_data['Open'][-1]\n",
    "        high_price = live_data['High'][-1]\n",
    "        low_price = live_data['Low'][-1]\n",
    "\n",
    "        # Append the OHLC values and predicted close price to the lists\n",
    "        timestamps.append(current_time)\n",
    "        open_prices.append(open_price)\n",
    "        high_prices.append(high_price)\n",
    "        low_prices.append(low_price)\n",
    "        predicted_closes.append(predicted_close_price)\n",
    "\n",
    "        # Output predicted price\n",
    "        print(f\"Predicted Close Price for 5 minutes ahead: {predicted_close_price}\")\n",
    "\n",
    "        # Create a new candlestick figure\n",
    "        fig = go.Figure()\n",
    "\n",
    "        # Add candlestick trace with real open, high, low, and predicted close prices\n",
    "        fig.add_trace(go.Candlestick(x=timestamps,\n",
    "                                     open=open_prices,\n",
    "                                     high=high_prices,\n",
    "                                     low=low_prices,\n",
    "                                     close=predicted_closes,\n",
    "                                     name='Candlestick'))\n",
    "\n",
    "        # Update layout with hovermode for both x and y axes\n",
    "        fig.update_layout(\n",
    "            title=\"Live 1-Minute Interval Candlestick Prediction (5 Min Ahead)\",\n",
    "            xaxis_title=\"Timestamp\",\n",
    "            yaxis_title=\"Price\",\n",
    "            hovermode=\"x unified\",  # Unified hover mode on x-axis\n",
    "            hoverlabel=dict(namelength=-1),  # Show full text\n",
    "        )\n",
    "\n",
    "        # Clear the previous plot and display the updated candlestick chart\n",
    "        clear_output(wait=True)\n",
    "        display(fig)\n",
    "\n",
    "        # Wait for 1 minute before running the prediction again\n",
    "        time.sleep(60)\n",
    "\n",
    "# Start the live prediction and graph update\n",
    "predict_live_data()\n"
   ]
  },
  {
   "cell_type": "code",
   "execution_count": null,
   "id": "7d798b65-bbd8-41f9-b53e-a5d4651cc0e3",
   "metadata": {},
   "outputs": [],
   "source": [
    "import yfinance as yf\n",
    "import numpy as np\n",
    "import pandas as pd\n",
    "from sklearn.preprocessing import MinMaxScaler\n",
    "import time\n",
    "import plotly.graph_objects as go\n",
    "from tensorflow.keras.models import load_model\n",
    "from IPython.display import display, clear_output\n",
    "\n",
    "# Load your trained model for 5-minute future prediction\n",
    "model_5min = load_model('model_5min.h5')\n",
    "\n",
    "# Define the ticker symbol\n",
    "ticker = \"^NSEBANK\"\n",
    "\n",
    "# Fetch historical Bank Nifty data (last 60 minutes of data in 5-minute intervals)\n",
    "historical_data = yf.download(ticker, period='1d', interval='5m')\n",
    "\n",
    "# Preprocess the historical data\n",
    "if not historical_data.empty:\n",
    "    historical_data = historical_data[['Open', 'High', 'Low', 'Close']]\n",
    "    scaler = MinMaxScaler(feature_range=(0, 1))\n",
    "\n",
    "    # Fit the scaler only on historical data\n",
    "    scaled_historical_data = scaler.fit_transform(historical_data)\n",
    "else:\n",
    "    print(\"No historical data found!\")\n",
    "\n",
    "# Initialize empty lists to store timestamps and candlestick data\n",
    "timestamps = list(historical_data.index[-12:])  # Initialize with last 12 (5-minute) data points (60 minutes of historical timestamps)\n",
    "open_prices = list(historical_data['Open'][-12:])  # Initialize with last 12 (5-minute) Open prices\n",
    "high_prices = list(historical_data['High'][-12:])  # Initialize with last 12 (5-minute) High prices\n",
    "low_prices = list(historical_data['Low'][-12:])    # Initialize with last 12 (5-minute) Low prices\n",
    "actual_closes = list(historical_data['Close'][-12:])  # Initialize with the last actual 12 close prices\n",
    "predicted_closes = []  # List to store predicted close prices\n",
    "predicted_timestamps = []  # List to store timestamps for predicted future close prices\n",
    "\n",
    "# Function for live prediction\n",
    "def predict_live_data():\n",
    "    live_data_accumulated = historical_data[-12:]  # Start with the last 60 minutes of historical data (12 intervals of 5 minutes)\n",
    "\n",
    "    while True:\n",
    "        # Fetch live data (5-minute interval)\n",
    "        live_data = yf.download(ticker, period='1d', interval='5m')\n",
    "\n",
    "        # Check if live data is empty\n",
    "        if live_data.empty:\n",
    "            print(\"No live data found! Skipping this cycle.\")\n",
    "            time.sleep(300)  # Wait 5 minutes and try again\n",
    "            continue\n",
    "\n",
    "        # Preprocess live data\n",
    "        live_data = live_data[['Open', 'High', 'Low', 'Close']]\n",
    "\n",
    "        # Append new live data to accumulated data and keep only the last 60 minutes (12 data points)\n",
    "        live_data_accumulated = pd.concat([live_data_accumulated, live_data])[-12:]\n",
    "\n",
    "        # Apply the scaler to the live data\n",
    "        try:\n",
    "            scaled_live_data = scaler.transform(live_data_accumulated)\n",
    "        except ValueError as e:\n",
    "            print(f\"Error scaling live data: {e}\")\n",
    "            time.sleep(300)  # Wait 5 minutes and try again\n",
    "            continue\n",
    "\n",
    "        # Ensure there's enough data for prediction (12 data points of 5-minute intervals)\n",
    "        if len(scaled_live_data) < 12:\n",
    "            print(\"Not enough data for prediction! Waiting for more data.\")\n",
    "            time.sleep(300)\n",
    "            continue\n",
    "\n",
    "        # The model should now predict 5 minutes into the future\n",
    "        X_live = np.array([scaled_live_data[-12:]])\n",
    "\n",
    "        # Reshape to match the LSTM model's input shape\n",
    "        X_live = np.reshape(X_live, (X_live.shape[0], X_live.shape[1], 4))\n",
    "\n",
    "        # Make prediction for 5 minutes into the future\n",
    "        predicted_price = model_5min.predict(X_live)\n",
    "\n",
    "        # Inverse transform to get the actual predicted price (predicted 5-min ahead close price)\n",
    "        predicted_close_price = scaler.inverse_transform([[0, 0, 0, predicted_price[0][0]]])[0][3]\n",
    "\n",
    "        # Get the current timestamp and other OHLC values from live data\n",
    "        current_time = live_data.index[-1]\n",
    "        open_price = live_data['Open'][-1]\n",
    "        high_price = live_data['High'][-1]\n",
    "        low_price = live_data['Low'][-1]\n",
    "        actual_close_price = live_data['Close'][-1]  # Actual close price\n",
    "\n",
    "        # Store predicted values for 5 minutes in the future\n",
    "        predicted_timestamps.append(current_time + pd.Timedelta(minutes=5))  # Add 5 minutes to current time\n",
    "        predicted_closes.append(predicted_close_price)\n",
    "\n",
    "        # Append the OHLC values and actual close price to the lists\n",
    "        timestamps.append(current_time)\n",
    "        open_prices.append(open_price)\n",
    "        high_prices.append(high_price)\n",
    "        low_prices.append(low_price)\n",
    "        actual_closes.append(actual_close_price)\n",
    "\n",
    "        # Output predicted price\n",
    "        print(f\"Predicted Close Price for 5 minutes ahead: {predicted_close_price}\")\n",
    "        print(f\"Actual Close Price: {actual_close_price}\")\n",
    "\n",
    "        # Create a new candlestick figure\n",
    "        fig = go.Figure()\n",
    "\n",
    "        # Add candlestick trace with real open, high, low, and actual close prices\n",
    "        fig.add_trace(go.Candlestick(x=timestamps,\n",
    "                                     open=open_prices,\n",
    "                                     high=high_prices,\n",
    "                                     low=low_prices,\n",
    "                                     close=actual_closes,\n",
    "                                     name='Actual Candlestick'))\n",
    "\n",
    "        # Overlay predicted close prices as a separate line (for 5 minutes ahead)\n",
    "        fig.add_trace(go.Scatter(x=predicted_timestamps, \n",
    "                                 y=predicted_closes, \n",
    "                                 mode='lines+markers', \n",
    "                                 name='Predicted Close (5 min ahead)', \n",
    "                                 line=dict(color='blue', dash='dash')))\n",
    "\n",
    "        # Update layout with hovermode for both x and y axes\n",
    "        fig.update_layout(\n",
    "            title=\"Live 5-Minute Interval Candlestick with Prediction (5 Min Ahead)\",\n",
    "            xaxis_title=\"Timestamp\",\n",
    "            yaxis_title=\"Price\",\n",
    "            hovermode=\"x unified\",  # Unified hover mode on x-axis\n",
    "            hoverlabel=dict(namelength=-1),  # Show full text\n",
    "        )\n",
    "\n",
    "        # Clear the previous plot and display the updated candlestick chart\n",
    "        clear_output(wait=True)\n",
    "        display(fig)\n",
    "\n",
    "        # Wait for 5 minutes before running the prediction again\n",
    "        time.sleep(300)\n",
    "\n",
    "# Start the live prediction and graph update\n",
    "predict_live_data()\n"
   ]
  },
  {
   "cell_type": "code",
   "execution_count": 7,
   "id": "88ab9ec1-50d6-4ca9-9f83-6a7cbe43df4f",
   "metadata": {},
   "outputs": [
    {
     "name": "stderr",
     "output_type": "stream",
     "text": [
      "[*********************100%***********************]  1 of 1 completed\n"
     ]
    },
    {
     "data": {
      "text/html": [
       "<div>\n",
       "<style scoped>\n",
       "    .dataframe tbody tr th:only-of-type {\n",
       "        vertical-align: middle;\n",
       "    }\n",
       "\n",
       "    .dataframe tbody tr th {\n",
       "        vertical-align: top;\n",
       "    }\n",
       "\n",
       "    .dataframe thead th {\n",
       "        text-align: right;\n",
       "    }\n",
       "</style>\n",
       "<table border=\"1\" class=\"dataframe\">\n",
       "  <thead>\n",
       "    <tr style=\"text-align: right;\">\n",
       "      <th></th>\n",
       "      <th>Open</th>\n",
       "      <th>High</th>\n",
       "      <th>Low</th>\n",
       "      <th>Close</th>\n",
       "      <th>Adj Close</th>\n",
       "      <th>Volume</th>\n",
       "    </tr>\n",
       "    <tr>\n",
       "      <th>Datetime</th>\n",
       "      <th></th>\n",
       "      <th></th>\n",
       "      <th></th>\n",
       "      <th></th>\n",
       "      <th></th>\n",
       "      <th></th>\n",
       "    </tr>\n",
       "  </thead>\n",
       "  <tbody>\n",
       "    <tr>\n",
       "      <th>2024-09-23 09:15:00+05:30</th>\n",
       "      <td>53872.699219</td>\n",
       "      <td>53879.601562</td>\n",
       "      <td>53754.601562</td>\n",
       "      <td>53831.500000</td>\n",
       "      <td>53831.500000</td>\n",
       "      <td>0</td>\n",
       "    </tr>\n",
       "    <tr>\n",
       "      <th>2024-09-23 09:20:00+05:30</th>\n",
       "      <td>53834.648438</td>\n",
       "      <td>53886.148438</td>\n",
       "      <td>53765.148438</td>\n",
       "      <td>53816.750000</td>\n",
       "      <td>53816.750000</td>\n",
       "      <td>0</td>\n",
       "    </tr>\n",
       "    <tr>\n",
       "      <th>2024-09-23 09:25:00+05:30</th>\n",
       "      <td>53818.398438</td>\n",
       "      <td>53877.898438</td>\n",
       "      <td>53803.699219</td>\n",
       "      <td>53845.601562</td>\n",
       "      <td>53845.601562</td>\n",
       "      <td>0</td>\n",
       "    </tr>\n",
       "    <tr>\n",
       "      <th>2024-09-23 09:30:00+05:30</th>\n",
       "      <td>53848.550781</td>\n",
       "      <td>53969.300781</td>\n",
       "      <td>53846.101562</td>\n",
       "      <td>53928.050781</td>\n",
       "      <td>53928.050781</td>\n",
       "      <td>0</td>\n",
       "    </tr>\n",
       "    <tr>\n",
       "      <th>2024-09-23 09:35:00+05:30</th>\n",
       "      <td>53926.898438</td>\n",
       "      <td>53938.699219</td>\n",
       "      <td>53826.949219</td>\n",
       "      <td>53885.101562</td>\n",
       "      <td>53885.101562</td>\n",
       "      <td>0</td>\n",
       "    </tr>\n",
       "    <tr>\n",
       "      <th>...</th>\n",
       "      <td>...</td>\n",
       "      <td>...</td>\n",
       "      <td>...</td>\n",
       "      <td>...</td>\n",
       "      <td>...</td>\n",
       "      <td>...</td>\n",
       "    </tr>\n",
       "    <tr>\n",
       "      <th>2024-09-23 15:05:00+05:30</th>\n",
       "      <td>54156.000000</td>\n",
       "      <td>54188.699219</td>\n",
       "      <td>54131.750000</td>\n",
       "      <td>54140.398438</td>\n",
       "      <td>54140.398438</td>\n",
       "      <td>0</td>\n",
       "    </tr>\n",
       "    <tr>\n",
       "      <th>2024-09-23 15:10:00+05:30</th>\n",
       "      <td>54137.800781</td>\n",
       "      <td>54137.800781</td>\n",
       "      <td>54039.851562</td>\n",
       "      <td>54080.750000</td>\n",
       "      <td>54080.750000</td>\n",
       "      <td>0</td>\n",
       "    </tr>\n",
       "    <tr>\n",
       "      <th>2024-09-23 15:15:00+05:30</th>\n",
       "      <td>54088.851562</td>\n",
       "      <td>54120.550781</td>\n",
       "      <td>54072.148438</td>\n",
       "      <td>54077.449219</td>\n",
       "      <td>54077.449219</td>\n",
       "      <td>0</td>\n",
       "    </tr>\n",
       "    <tr>\n",
       "      <th>2024-09-23 15:20:00+05:30</th>\n",
       "      <td>54081.199219</td>\n",
       "      <td>54088.851562</td>\n",
       "      <td>54048.050781</td>\n",
       "      <td>54058.500000</td>\n",
       "      <td>54058.500000</td>\n",
       "      <td>0</td>\n",
       "    </tr>\n",
       "    <tr>\n",
       "      <th>2024-09-23 15:25:00+05:30</th>\n",
       "      <td>54058.351562</td>\n",
       "      <td>54079.300781</td>\n",
       "      <td>54047.898438</td>\n",
       "      <td>54071.250000</td>\n",
       "      <td>54071.250000</td>\n",
       "      <td>0</td>\n",
       "    </tr>\n",
       "  </tbody>\n",
       "</table>\n",
       "<p>75 rows × 6 columns</p>\n",
       "</div>"
      ],
      "text/plain": [
       "                                   Open          High           Low  \\\n",
       "Datetime                                                              \n",
       "2024-09-23 09:15:00+05:30  53872.699219  53879.601562  53754.601562   \n",
       "2024-09-23 09:20:00+05:30  53834.648438  53886.148438  53765.148438   \n",
       "2024-09-23 09:25:00+05:30  53818.398438  53877.898438  53803.699219   \n",
       "2024-09-23 09:30:00+05:30  53848.550781  53969.300781  53846.101562   \n",
       "2024-09-23 09:35:00+05:30  53926.898438  53938.699219  53826.949219   \n",
       "...                                 ...           ...           ...   \n",
       "2024-09-23 15:05:00+05:30  54156.000000  54188.699219  54131.750000   \n",
       "2024-09-23 15:10:00+05:30  54137.800781  54137.800781  54039.851562   \n",
       "2024-09-23 15:15:00+05:30  54088.851562  54120.550781  54072.148438   \n",
       "2024-09-23 15:20:00+05:30  54081.199219  54088.851562  54048.050781   \n",
       "2024-09-23 15:25:00+05:30  54058.351562  54079.300781  54047.898438   \n",
       "\n",
       "                                  Close     Adj Close  Volume  \n",
       "Datetime                                                       \n",
       "2024-09-23 09:15:00+05:30  53831.500000  53831.500000       0  \n",
       "2024-09-23 09:20:00+05:30  53816.750000  53816.750000       0  \n",
       "2024-09-23 09:25:00+05:30  53845.601562  53845.601562       0  \n",
       "2024-09-23 09:30:00+05:30  53928.050781  53928.050781       0  \n",
       "2024-09-23 09:35:00+05:30  53885.101562  53885.101562       0  \n",
       "...                                 ...           ...     ...  \n",
       "2024-09-23 15:05:00+05:30  54140.398438  54140.398438       0  \n",
       "2024-09-23 15:10:00+05:30  54080.750000  54080.750000       0  \n",
       "2024-09-23 15:15:00+05:30  54077.449219  54077.449219       0  \n",
       "2024-09-23 15:20:00+05:30  54058.500000  54058.500000       0  \n",
       "2024-09-23 15:25:00+05:30  54071.250000  54071.250000       0  \n",
       "\n",
       "[75 rows x 6 columns]"
      ]
     },
     "execution_count": 7,
     "metadata": {},
     "output_type": "execute_result"
    }
   ],
   "source": [
    "ticker = \"^NSEBANK\"\n",
    "historical_data = yf.download(ticker, period='1d', interval='5m')\n",
    "historical_data"
   ]
  },
  {
   "cell_type": "code",
   "execution_count": null,
   "id": "6606cdbc-c545-480c-82af-bda283210090",
   "metadata": {},
   "outputs": [],
   "source": []
  }
 ],
 "metadata": {
  "kernelspec": {
   "display_name": "minorporject",
   "language": "python",
   "name": "minorporject"
  },
  "language_info": {
   "codemirror_mode": {
    "name": "ipython",
    "version": 3
   },
   "file_extension": ".py",
   "mimetype": "text/x-python",
   "name": "python",
   "nbconvert_exporter": "python",
   "pygments_lexer": "ipython3",
   "version": "3.10.6"
  }
 },
 "nbformat": 4,
 "nbformat_minor": 5
}
